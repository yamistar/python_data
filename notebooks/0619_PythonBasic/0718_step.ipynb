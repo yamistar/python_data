{
 "cells": [
  {
   "cell_type": "markdown",
   "metadata": {},
   "source": [
    "# 파일입출력\n"
   ]
  },
  {
   "cell_type": "code",
   "execution_count": 41,
   "metadata": {},
   "outputs": [],
   "source": [
    "\n",
    "f = open(\"data/text.txt\",'w')\n",
    "# f.write(\"파이썬공부 하기싫다.재미없다. 어쩌쥬?\")\n",
    "f.write(\"파이썬공부 하기좋다.재미있다. 어쩌쥬?\")\n",
    "\n",
    "f.close()\n"
   ]
  },
  {
   "cell_type": "code",
   "execution_count": 42,
   "metadata": {},
   "outputs": [
    {
     "data": {
      "text/plain": [
       "'/workspaces/python_data/notebooks/0619_PythonBasic'"
      ]
     },
     "execution_count": 42,
     "metadata": {},
     "output_type": "execute_result"
    }
   ],
   "source": [
    "import os # os라는 모듈 현재 디렉토리 경로 확인\n",
    "\n",
    "os.getcwd()"
   ]
  },
  {
   "cell_type": "code",
   "execution_count": 43,
   "metadata": {},
   "outputs": [],
   "source": [
    "# 기존파일에 추가로 쓰기\n",
    "f = open(\"data/text.txt\",'a')\n",
    "f .write(\"뻥이다,어쩌쥬?\")\n",
    "\n",
    "f.close()"
   ]
  },
  {
   "cell_type": "code",
   "execution_count": 44,
   "metadata": {},
   "outputs": [],
   "source": [
    "# f = open(\"text.txt\",'x')\n",
    "# 기존에 파일이 있다면 오류. 덮어쓰기방지"
   ]
  },
  {
   "cell_type": "code",
   "execution_count": 45,
   "metadata": {},
   "outputs": [],
   "source": [
    "# 기존파일에 추가로 쓰기\n",
    "f = open(\"data/text.txt\",'a')\n",
    "f .write(\"\"\"\\n\\n\\n\n",
    "        뻥이다,어쩌쥬?\n",
    "        완전 어떡하쥬?\n",
    "        내미래?\n",
    "        \"\"\")\n",
    "\n",
    "# f.writelines(list)\n",
    "f.close()"
   ]
  },
  {
   "cell_type": "code",
   "execution_count": 46,
   "metadata": {},
   "outputs": [
    {
     "name": "stdout",
     "output_type": "stream",
     "text": [
      "파이썬공부 하기좋다.재미있다. 어쩌쥬?뻥이다,어쩌쥬?\n",
      "\n",
      "\n",
      "\n"
     ]
    }
   ],
   "source": [
    "f = open(\"data/text.txt\",'r')\n",
    "print(f.readline())\n",
    "print(f.readline())\n",
    "f.close()"
   ]
  },
  {
   "cell_type": "code",
   "execution_count": 47,
   "metadata": {},
   "outputs": [
    {
     "name": "stdout",
     "output_type": "stream",
     "text": [
      "파이썬공부 하기좋다.재미있다. 어쩌쥬?뻥이다,어쩌쥬?\n",
      "\n",
      "\n",
      "\n",
      "\n",
      "\n",
      "\n",
      "\n",
      "        뻥이다,어쩌쥬?\n",
      "\n",
      "        완전 어떡하쥬?\n",
      "\n",
      "        내미래?\n",
      "\n",
      "        \n"
     ]
    }
   ],
   "source": [
    "f = open(\"data/text.txt\",'r')\n",
    "while True:\n",
    "    line = f.readline()\n",
    "    if not line : break\n",
    "    print(line)\n",
    "f.close()"
   ]
  },
  {
   "cell_type": "code",
   "execution_count": 48,
   "metadata": {},
   "outputs": [
    {
     "name": "stdout",
     "output_type": "stream",
     "text": [
      "['파이썬공부 하기좋다.재미있다. 어쩌쥬?뻥이다,어쩌쥬?\\n', '\\n', '\\n', '\\n', '        뻥이다,어쩌쥬?\\n', '        완전 어떡하쥬?\\n', '        내미래?\\n', '        ']\n"
     ]
    }
   ],
   "source": [
    "f = open(\"data/text.txt\",'r')\n",
    "print(f.readlines())\n",
    "f.close()"
   ]
  },
  {
   "cell_type": "code",
   "execution_count": 49,
   "metadata": {},
   "outputs": [],
   "source": [
    "# 표준 출력 \n",
    "\n",
    "import sys\n",
    "\n",
    "# 원래의 표준 출력을 저장\n",
    "original_stdout = sys.stdout\n",
    "\n",
    "# 파일로 표준 출력 리디렉션\n",
    "f = open('data/sys.txt', 'w')\n",
    "sys.stdout = f\n",
    "\n",
    "print(\"1234\")\n",
    "\n",
    "# 표준 출력을 원래대로 복원 - 이걸 안하니까 무한 루프에 빠짐\n",
    "sys.stdout = original_stdout\n",
    "f.close()\n"
   ]
  },
  {
   "cell_type": "code",
   "execution_count": 50,
   "metadata": {},
   "outputs": [
    {
     "data": {
      "text/plain": [
       "['sys.txt', 'sys1.txt', 'python', '99.txt', 'text.txt']"
      ]
     },
     "execution_count": 50,
     "metadata": {},
     "output_type": "execute_result"
    }
   ],
   "source": [
    "# 파일 디렉토리 다루기\n",
    "\n",
    "os.listdir('data/')\n"
   ]
  },
  {
   "cell_type": "code",
   "execution_count": 51,
   "metadata": {},
   "outputs": [],
   "source": [
    "os.rename('data/sys.txt','data/sys1.txt')"
   ]
  },
  {
   "cell_type": "code",
   "execution_count": 52,
   "metadata": {},
   "outputs": [
    {
     "data": {
      "text/plain": [
       "'/workspaces/python_data/notebooks/0619_PythonBasic'"
      ]
     },
     "execution_count": 52,
     "metadata": {},
     "output_type": "execute_result"
    }
   ],
   "source": [
    "os.getcwd()"
   ]
  },
  {
   "cell_type": "code",
   "execution_count": 53,
   "metadata": {},
   "outputs": [],
   "source": [
    "# os.mkdir('data')"
   ]
  },
  {
   "cell_type": "markdown",
   "metadata": {},
   "source": [
    "### 99단 출력 프로그램\n",
    "1. print()출력, \n",
    "2. 문자열 포매팅,\n",
    "3. 반복문 활용"
   ]
  },
  {
   "cell_type": "code",
   "execution_count": 54,
   "metadata": {},
   "outputs": [],
   "source": [
    "import sys\n",
    "f = open('data/99.txt','w')\n",
    "sys.stdout = f"
   ]
  },
  {
   "cell_type": "code",
   "execution_count": 55,
   "metadata": {},
   "outputs": [],
   "source": [
    "for i in range(2,10):\n",
    "    for j in range(1,10):\n",
    "        print('{} X {}= {:2}'.format(i,j,i*j))"
   ]
  },
  {
   "cell_type": "markdown",
   "metadata": {},
   "source": [
    "# ㅇㅇㄹ"
   ]
  },
  {
   "cell_type": "code",
   "execution_count": 56,
   "metadata": {},
   "outputs": [
    {
     "data": {
      "text/plain": [
       "'/workspaces/python_data/notebooks/0619_PythonBasic'"
      ]
     },
     "execution_count": 56,
     "metadata": {},
     "output_type": "execute_result"
    }
   ],
   "source": [
    "os.getcwd()"
   ]
  },
  {
   "cell_type": "code",
   "execution_count": 57,
   "metadata": {},
   "outputs": [],
   "source": [
    "# os.mkdir('data/python')\n"
   ]
  },
  {
   "cell_type": "code",
   "execution_count": 58,
   "metadata": {},
   "outputs": [],
   "source": [
    "txt = \"hello word........\"\n",
    "\n",
    "f = open('/workspaces/python_data/notebooks/0619_PythonBasic/data/python/pythontest.txt','w')\n",
    "\n",
    "f.write(txt)\n",
    "f.close()"
   ]
  },
  {
   "cell_type": "code",
   "execution_count": 59,
   "metadata": {},
   "outputs": [
    {
     "data": {
      "text/plain": [
       "'/workspaces/python_data/notebooks/0619_PythonBasic'"
      ]
     },
     "execution_count": 59,
     "metadata": {},
     "output_type": "execute_result"
    }
   ],
   "source": [
    "os.getcwd()"
   ]
  },
  {
   "cell_type": "code",
   "execution_count": 60,
   "metadata": {},
   "outputs": [],
   "source": [
    "os.chdir('/workspaces/python_data/notebooks/0619_PythonBasic/data')"
   ]
  },
  {
   "cell_type": "code",
   "execution_count": 61,
   "metadata": {},
   "outputs": [
    {
     "data": {
      "text/plain": [
       "'/workspaces/python_data/notebooks/0619_PythonBasic/data'"
      ]
     },
     "execution_count": 61,
     "metadata": {},
     "output_type": "execute_result"
    }
   ],
   "source": [
    "os.getcwd()"
   ]
  },
  {
   "cell_type": "code",
   "execution_count": 62,
   "metadata": {},
   "outputs": [],
   "source": [
    "os.chdir('/workspaces/python_data/notebooks/0619_PythonBasic/')"
   ]
  }
 ],
 "metadata": {
  "kernelspec": {
   "display_name": "Python 3",
   "language": "python",
   "name": "python3"
  },
  "language_info": {
   "codemirror_mode": {
    "name": "ipython",
    "version": 3
   },
   "file_extension": ".py",
   "mimetype": "text/x-python",
   "name": "python",
   "nbconvert_exporter": "python",
   "pygments_lexer": "ipython3",
   "version": "3.10.13"
  }
 },
 "nbformat": 4,
 "nbformat_minor": 2
}
