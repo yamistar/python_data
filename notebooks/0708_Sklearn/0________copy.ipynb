{
  "cells": [
    {
      "cell_type": "markdown",
      "metadata": {},
      "source": [
        "### 미션: 숫자 리스트의 모든 요소를 제곱한 후 새로운 리스트로 반환하기"
      ]
    },
    {
      "cell_type": "code",
      "execution_count": 1,
      "metadata": {
        "id": "8FABTWPE65LD"
      },
      "outputs": [
        {
          "name": "stdout",
          "output_type": "stream",
          "text": [
            "[1, 4, 9, 16, 25]\n"
          ]
        }
      ],
      "source": [
        "numbers = [1, 2, 3, 4, 5]\n",
        "squared_numbers = [num ** 2 for num in numbers]\n",
        "print(squared_numbers)"
      ]
    },
    {
      "cell_type": "markdown",
      "metadata": {},
      "source": [
        "### 미션: 학생들의 이름과 점수가 있는 딕셔너리에서, 점수가 70점 이상인 학생들만 출력"
      ]
    },
    {
      "cell_type": "code",
      "execution_count": 1,
      "metadata": {
        "id": "RYnHlxx47G8c"
      },
      "outputs": [
        {
          "name": "stdout",
          "output_type": "stream",
          "text": [
            "{'Alice': 85, 'Charlie': 72, 'David': 90}\n"
          ]
        }
      ],
      "source": [
        "students = {'Alice': 85, 'Bob': 67, 'Charlie': 72, 'David': 90}\n",
        "passed_students = {name : score for name, score in students.items() if score >= 70}\n",
        "print(passed_students)"
      ]
    },
    {
      "cell_type": "markdown",
      "metadata": {},
      "source": [
        "### 미션: 두 숫자의 합을 계산하는 함수를 작성"
      ]
    },
    {
      "cell_type": "code",
      "execution_count": 3,
      "metadata": {
        "id": "DQShaNEw7N4r"
      },
      "outputs": [
        {
          "name": "stdout",
          "output_type": "stream",
          "text": [
            "30\n"
          ]
        }
      ],
      "source": [
        "def add_numbers(num1, num2):\n",
        "    return num1 + num2\n",
        "\n",
        "result = add_numbers(10, 20)\n",
        "print(result)"
      ]
    },
    {
      "cell_type": "markdown",
      "metadata": {},
      "source": [
        "### 미션: 텍스트 파일을 읽고, 파일의 각 줄을 역순으로 출력하세요.\n",
        "*  2~3줄의 문장이 들어있는 간단한 sample.txt 파일을 만들어주세요"
      ]
    },
    {
      "cell_type": "code",
      "execution_count": 4,
      "metadata": {
        "id": "3oF3l-lD7XPD"
      },
      "outputs": [
        {
          "name": "stdout",
          "output_type": "stream",
          "text": [
            "녕안\n",
            "워가반\n",
            "썬이파\n"
          ]
        }
      ],
      "source": [
        "with open('sample.txt', 'r', encoding='utf-8') as file:\n",
        "    lines = file.readlines()\n",
        "    reversed_lines = [line.strip()[::-1] for line in lines]\n",
        "    for line in reversed_lines:\n",
        "        print(line)\n"
      ]
    },
    {
      "cell_type": "code",
      "execution_count": null,
      "metadata": {
        "id": "cLh17mxv8jxj"
      },
      "outputs": [],
      "source": [
        "# 미션: CSV 파일을 읽고, 'column_name' 열의 평균값을 계산하세요.\n",
        "# 먼저 data.csv파일을 만드는 코드셀을 실행하세요"
      ]
    },
    {
      "cell_type": "code",
      "execution_count": 5,
      "metadata": {
        "id": "Qw3tkjvDKbes"
      },
      "outputs": [
        {
          "name": "stdout",
          "output_type": "stream",
          "text": [
            "data.csv 파일이 성공적으로 생성되었습니다.\n"
          ]
        }
      ],
      "source": [
        "import csv\n",
        "\n",
        "# 데이터 정의\n",
        "data = [\n",
        "    ['column_group', 'column_name', 'other_column'],\n",
        "    ['A', 10, 5],\n",
        "    ['B', 20, 15],\n",
        "    ['D', 30, 25],\n",
        "    ['C', 40, 35],\n",
        "    ['A', 50, 45],\n",
        "    ['C', 60, 55],\n",
        "    ['A', 70, 65],\n",
        "    ['D', 80, 75],\n",
        "    ['B', 90, 85],\n",
        "    ['B', 100, 95]\n",
        "]\n",
        "\n",
        "# 파일 쓰기\n",
        "with open('data.csv', 'w', newline='') as file:\n",
        "    writer = csv.writer(file)\n",
        "    writer.writerows(data)\n",
        "\n",
        "print(\"data.csv 파일이 성공적으로 생성되었습니다.\")"
      ]
    },
    {
      "cell_type": "code",
      "execution_count": 6,
      "metadata": {
        "id": "K8dxRpHB8l1C"
      },
      "outputs": [
        {
          "name": "stdout",
          "output_type": "stream",
          "text": [
            "55.0\n"
          ]
        }
      ],
      "source": [
        "import pandas as pd\n",
        "\n",
        "df = pd.read_csv('data.csv')\n",
        "average_value = df['column_name'].mean()\n",
        "print(average_value)"
      ]
    },
    {
      "cell_type": "code",
      "execution_count": null,
      "metadata": {
        "id": "SNzaeZ728sbq"
      },
      "outputs": [],
      "source": [
        "# 미션: 데이터 프레임에서 특정 조건('column_name'열 중 50초과)을 만족하는 행만 선택하세요."
      ]
    },
    {
      "cell_type": "code",
      "execution_count": 7,
      "metadata": {
        "id": "R5Xo6X4K8ujt"
      },
      "outputs": [
        {
          "name": "stdout",
          "output_type": "stream",
          "text": [
            "  column_group  column_name  other_column\n",
            "5            C           60            55\n",
            "6            A           70            65\n",
            "7            D           80            75\n",
            "8            B           90            85\n",
            "9            B          100            95\n"
          ]
        }
      ],
      "source": [
        "filtered_df =  df[df['column_name'] > 50]\n",
        "print(filtered_df)"
      ]
    },
    {
      "cell_type": "code",
      "execution_count": null,
      "metadata": {
        "id": "SepQLBHb9a6k"
      },
      "outputs": [],
      "source": [
        "# 미션: 데이터 프레임을 'column_group' 열에 의해 그룹화하고, 그룹별 합계를 계산하세요."
      ]
    },
    {
      "cell_type": "code",
      "execution_count": 8,
      "metadata": {
        "id": "lwJB45go9c0R"
      },
      "outputs": [
        {
          "name": "stdout",
          "output_type": "stream",
          "text": [
            "              column_name  other_column\n",
            "column_group                           \n",
            "A                     130           115\n",
            "B                     210           195\n",
            "C                     100            90\n",
            "D                     110           100\n"
          ]
        }
      ],
      "source": [
        "grouped_df = df.groupby('column_group').sum()\n",
        "print(grouped_df)"
      ]
    },
    {
      "cell_type": "code",
      "execution_count": 9,
      "metadata": {
        "id": "LAnBLD6UHBbf"
      },
      "outputs": [
        {
          "name": "stdout",
          "output_type": "stream",
          "text": [
            "생성된 로또 번호: [12, 14, 30, 28, 21, 24]\n"
          ]
        }
      ],
      "source": [
        "# 미션8: 로또 번호 생성기\n",
        "# 주제: 1부터 45까지의 숫자 중에서 랜덤으로 6개의 로또 번호를 생성하는 프로그램을 작성하세요.\n",
        "# 요구사항: 6개의 숫자가 중복되지 않도록 랜덤으로 생성합니다.\n",
        "\n",
        "import random\n",
        "\n",
        "def generate_lotto_numbers():\n",
        "    # 1부터 45까지의 숫자 리스트 생성\n",
        "    all_numbers = list(range(1, 46))\n",
        "    \n",
        "    # 중복되지 않는 6개의 숫자 무작위 선택\n",
        "    lotto_numbers = random.sample(all_numbers, 6)\n",
        "    \n",
        "    return lotto_numbers\n",
        "\n",
        "# 함수 호출하여 로또 번호 생성\n",
        "lotto_result = generate_lotto_numbers()\n",
        "\n",
        "# 결과 출력\n",
        "print(f\"생성된 로또 번호: {lotto_result}\")\n"
      ]
    },
    {
      "cell_type": "code",
      "execution_count": 10,
      "metadata": {
        "id": "ZEsaIhQdGtvn"
      },
      "outputs": [
        {
          "name": "stdout",
          "output_type": "stream",
          "text": [
            "===== 숫자 맞추기 게임 =====\n",
            "게임 방법) 1 ~ 100 사이의 숫자를 입력해 주세요. 기회는 5회 입니다.\n",
            "> 숫자가 작습니다.\n",
            "> 숫자가 작습니다.\n",
            "> 숫자가 큽니다.\n",
            "> 숫자가 작습니다.\n",
            "> 숫자가 작습니다.\n",
            "> 실패하셨습니다. 정답은 76\n"
          ]
        }
      ],
      "source": [
        "# 미션9: 숫자 맞추기 게임\n",
        "# 주제: 컴퓨터가 1에서 100 사이의 랜덤 숫자를 선택하고, 사용자가 이를 맞추는 게임을 만드세요.\n",
        "# 요구사항: 사용자가 숫자를 입력하면, 컴퓨터가 더 큰지 작은지를 알려주고, 맞출 때까지 반복합니다.\n",
        "import random\n",
        "\n",
        "def guess_the_number():\n",
        "    # 랜덤 숫자 선택\n",
        "    goal_num = random.randint(1, 100)\n",
        "    max_count = 5  # 기회는 5번\n",
        "\n",
        "    print(\"=\" * 5, \"숫자 맞추기 게임\", \"=\" * 5)\n",
        "    print(f\"게임 방법) 1 ~ 100 사이의 숫자를 입력해 주세요. 기회는 {max_count}회 입니다.\")\n",
        "\n",
        "    for count in range(1, max_count + 1):\n",
        "        in_num = int(input(f\"{count}번째 숫자를 입력하세요: \"))\n",
        "\n",
        "        if in_num < goal_num:\n",
        "            print(\"> 숫자가 작습니다.\")\n",
        "        elif in_num > goal_num:\n",
        "            print(\"> 숫자가 큽니다.\")\n",
        "        else:\n",
        "            print(f\"> 정답입니다!!! {count}회 맞춤\")\n",
        "            break\n",
        "    else:\n",
        "        print(\"> 실패하셨습니다. 정답은\", goal_num)\n",
        "\n",
        "# 게임 실행\n",
        "guess_the_number()\n"
      ]
    },
    {
      "cell_type": "code",
      "execution_count": 11,
      "metadata": {
        "id": "e_HCY52GHHc4"
      },
      "outputs": [
        {
          "name": "stdout",
          "output_type": "stream",
          "text": [
            "2단:\n",
            "2 x 1 = 2\n",
            "2 x 2 = 4\n",
            "2 x 3 = 6\n",
            "2 x 4 = 8\n",
            "2 x 5 = 10\n",
            "2 x 6 = 12\n",
            "2 x 7 = 14\n",
            "2 x 8 = 16\n",
            "2 x 9 = 18\n",
            "\n",
            "3단:\n",
            "3 x 1 = 3\n",
            "3 x 2 = 6\n",
            "3 x 3 = 9\n",
            "3 x 4 = 12\n",
            "3 x 5 = 15\n",
            "3 x 6 = 18\n",
            "3 x 7 = 21\n",
            "3 x 8 = 24\n",
            "3 x 9 = 27\n",
            "\n",
            "4단:\n",
            "4 x 1 = 4\n",
            "4 x 2 = 8\n",
            "4 x 3 = 12\n",
            "4 x 4 = 16\n",
            "4 x 5 = 20\n",
            "4 x 6 = 24\n",
            "4 x 7 = 28\n",
            "4 x 8 = 32\n",
            "4 x 9 = 36\n",
            "\n",
            "5단:\n",
            "5 x 1 = 5\n",
            "5 x 2 = 10\n",
            "5 x 3 = 15\n",
            "5 x 4 = 20\n",
            "5 x 5 = 25\n",
            "5 x 6 = 30\n",
            "5 x 7 = 35\n",
            "5 x 8 = 40\n",
            "5 x 9 = 45\n",
            "\n",
            "6단:\n",
            "6 x 1 = 6\n",
            "6 x 2 = 12\n",
            "6 x 3 = 18\n",
            "6 x 4 = 24\n",
            "6 x 5 = 30\n",
            "6 x 6 = 36\n",
            "6 x 7 = 42\n",
            "6 x 8 = 48\n",
            "6 x 9 = 54\n",
            "\n",
            "7단:\n",
            "7 x 1 = 7\n",
            "7 x 2 = 14\n",
            "7 x 3 = 21\n",
            "7 x 4 = 28\n",
            "7 x 5 = 35\n",
            "7 x 6 = 42\n",
            "7 x 7 = 49\n",
            "7 x 8 = 56\n",
            "7 x 9 = 63\n",
            "\n",
            "8단:\n",
            "8 x 1 = 8\n",
            "8 x 2 = 16\n",
            "8 x 3 = 24\n",
            "8 x 4 = 32\n",
            "8 x 5 = 40\n",
            "8 x 6 = 48\n",
            "8 x 7 = 56\n",
            "8 x 8 = 64\n",
            "8 x 9 = 72\n",
            "\n",
            "9단:\n",
            "9 x 1 = 9\n",
            "9 x 2 = 18\n",
            "9 x 3 = 27\n",
            "9 x 4 = 36\n",
            "9 x 5 = 45\n",
            "9 x 6 = 54\n",
            "9 x 7 = 63\n",
            "9 x 8 = 72\n",
            "9 x 9 = 81\n",
            "\n"
          ]
        }
      ],
      "source": [
        "# 미션10: 구구단 출력기\n",
        "# 주제: 2단부터 9단까지의 구구단을 출력하는 프로그램을 작성하세요.\n",
        "# 요구사항: 2단부터 9단까지의 곱셈 결과를 출력합니다.\n",
        "def print_multiplication_table():\n",
        "    for i in range(2, 10):\n",
        "        print(f\"{i}단:\")\n",
        "        for j in range(1, 10):\n",
        "            print(f\"{i} x {j} = {i * j}\")\n",
        "        print()\n",
        "\n",
        "# 함수 호출하여 구구단 출력\n",
        "print_multiplication_table()\n"
      ]
    },
    {
      "cell_type": "code",
      "execution_count": null,
      "metadata": {},
      "outputs": [],
      "source": []
    }
  ],
  "metadata": {
    "colab": {
      "provenance": []
    },
    "kernelspec": {
      "display_name": "Python 3",
      "name": "python3"
    },
    "language_info": {
      "codemirror_mode": {
        "name": "ipython",
        "version": 3
      },
      "file_extension": ".py",
      "mimetype": "text/x-python",
      "name": "python",
      "nbconvert_exporter": "python",
      "pygments_lexer": "ipython3",
      "version": "3.12.4"
    }
  },
  "nbformat": 4,
  "nbformat_minor": 0
}
