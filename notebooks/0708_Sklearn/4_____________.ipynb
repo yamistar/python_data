{
  "cells": [
    {
      "cell_type": "code",
      "execution_count": null,
      "metadata": {
        "id": "gB6MXblvN0iQ"
      },
      "outputs": [],
      "source": [
        "# 고급 회귀 기법"
      ]
    },
    {
      "cell_type": "code",
      "execution_count": null,
      "metadata": {
        "id": "ElCHV2_OawO-"
      },
      "outputs": [],
      "source": [
        "자전거 대여 수요 예측: https://www.kaggle.com/competitions/bike-sharing-demand/data\n",
        "주택 가격: https://www.kaggle.com/competitions/house-prices-advanced-regression-techniques/data"
      ]
    },
    {
      "cell_type": "markdown",
      "metadata": {
        "id": "6pSCAbu3QG4u"
      },
      "source": [
        "### 데이터 사전 처리(Preprocessing)"
      ]
    },
    {
      "cell_type": "code",
      "execution_count": null,
      "metadata": {
        "id": "hPM1VsD8N0kv"
      },
      "outputs": [],
      "source": [
        "import numpy as np\n",
        "import pandas as pd\n",
        "import matplotlib.pyplot as plt\n",
        "import seaborn as sns\n",
        "import warnings\n",
        "warnings.filterwarnings(\"ignore\")"
      ]
    },
    {
      "cell_type": "code",
      "execution_count": null,
      "metadata": {
        "id": "RkVF0YCxN0no"
      },
      "outputs": [],
      "source": [
        "# 데이터 불러오기\n",
        "house_df_org  =  #TODO:YOUR_CODE_HERE\n",
        "house_df = house_df_org.copy()\n",
        "house_df.head(3)"
      ]
    },
    {
      "cell_type": "code",
      "execution_count": null,
      "metadata": {
        "id": "bIheuTA1PQo_"
      },
      "outputs": [],
      "source": [
        "house_df.info()"
      ]
    },
    {
      "cell_type": "code",
      "execution_count": null,
      "metadata": {
        "colab": {
          "base_uri": "https://localhost:8080/"
        },
        "id": "6rcMJ7_7R7X9",
        "outputId": "592a8059-d8b9-4904-f677-06880194e105"
      },
      "outputs": [],
      "source": [
        "house_df.shape"
      ]
    },
    {
      "cell_type": "code",
      "execution_count": null,
      "metadata": {
        "id": "GdEwwNuaPTY_"
      },
      "outputs": [],
      "source": [
        "print('### Feature type ###')\n",
        "print(house_df.iloc[:,:-1].dtypes.value_counts())\n",
        "\n",
        "print('\\n### Null Feature ###')\n",
        "isnull_series = house_df.isnull().sum() # Null 데이터의 갯수 확인하기 #TODO:YOUR_CODE_HERE\n",
        "print(isnull_series[isnull_series > 0].sort_values(ascending=False))"
      ]
    },
    {
      "cell_type": "code",
      "execution_count": null,
      "metadata": {
        "id": "0HHMqIXeS9L7"
      },
      "outputs": [],
      "source": [
        "# 시각화를 통해 SalePrice의 분포도 확인\n",
        "\n",
        "from scipy import stats\n",
        "\n",
        "fig, axs = plt.subplots(1,3, figsize = (15,6))\n",
        "\n",
        "sns.histplot(house_df[\"SalePrice\"], ax =axs[0], kde=True)\n",
        "stats.probplot(house_df[\"SalePrice\"], dist='norm', fit=True, plot=axs[1])\n",
        "sns.histplot(np.log1p(house_df[\"SalePrice\"]), ax=axs[2], kde=True)\n",
        "\n",
        "axs[0].set_title(\"Original Sale Price Histogram\")\n",
        "axs[2].set_title(\"Log Transformed Sale Price Histogram\")\n",
        "\n",
        "for label in axs[0].get_xticklabels():\n",
        "    label.set_rotation(45)\n",
        "    label.set_ha('right')\n",
        "\n",
        "plt.tight_layout()\n",
        "plt.show()"
      ]
    },
    {
      "cell_type": "code",
      "execution_count": null,
      "metadata": {
        "id": "PjWDkBqLS9TM"
      },
      "outputs": [],
      "source": []
    },
    {
      "cell_type": "code",
      "execution_count": null,
      "metadata": {
        "id": "jomA5FYAWa95"
      },
      "outputs": [],
      "source": [
        "# # 피처 제거\n",
        "# # Null 데이터가 100개 이상인 피처 제거\n",
        "# TODO: YOUR_CODE_HERE([\"Id\", \"PoolQC\", \"MiscFeature\", \"Alley\", \"Fence\"], axis=1, inplace=True)\n",
        "\n",
        "# 종속 변수 로그 변환\n",
        "org_SalePrice = house_df[\"SalePrice\"]\n",
        "house_df[\"SalePrice\"] = np.log1p(house_df[\"SalePrice\"])\n",
        "\n",
        "# 결측값 대체 - 숫자형\n",
        "numeric_cols = house_df.select_dtypes(include=[np.number]).columns\n",
        "house_df[numeric_cols] = house_df[numeric_cols].fillna(house_df[numeric_cols].mean())\n",
        "\n",
        "# 원-핫 인코딩 - 카테고리형\n",
        "house_df_ohe = # TODO: YOUR_CODE_HERE\n",
        "\n",
        "# 결과 확인\n",
        "print(house_df_ohe.head())"
      ]
    },
    {
      "cell_type": "code",
      "execution_count": null,
      "metadata": {
        "colab": {
          "base_uri": "https://localhost:8080/"
        },
        "id": "Fceyt6bjWnUg",
        "outputId": "666e7897-fd17-475d-99e1-ebf915b6794a"
      },
      "outputs": [],
      "source": [
        "print(\"원-핫 인코딩 전 shape:\", house_df.shape)\n",
        "print(\"원-핫 인코딩 후 shape:\", house_df_ohe.shape)"
      ]
    },
    {
      "cell_type": "markdown",
      "metadata": {
        "id": "lYSRVaiDQ56E"
      },
      "source": [
        "### 선형 회귀 모델의 학습/예측/평가"
      ]
    },
    {
      "cell_type": "markdown",
      "metadata": {
        "id": "Vkr3zjpoXIC3"
      },
      "source": [
        "#### 기본 예측/평가"
      ]
    },
    {
      "cell_type": "markdown",
      "metadata": {
        "id": "Ul0Qfzm6XKzQ"
      },
      "source": [
        "##### RMSE함수"
      ]
    },
    {
      "cell_type": "code",
      "execution_count": null,
      "metadata": {
        "id": "akQ_iwZOfA0C"
      },
      "outputs": [],
      "source": [
        "def get_rmse(model):\n",
        "    pred = model.predict(X_test)\n",
        "    mse = mean_squared_error(y_test , pred)\n",
        "    rmse = np.sqrt(mse)\n",
        "    print(f'{model.__class__.__name__} 로그 변환된 RMSE: {np.round(rmse, 4)}')\n",
        "\n",
        "    return rmse\n",
        "\n",
        "def get_rmses(models):\n",
        "    rmses = []\n",
        "\n",
        "    for model in models:\n",
        "        rmse = get_rmse(model)\n",
        "        rmses.append(rmse)\n",
        "\n",
        "    return rmses"
      ]
    },
    {
      "cell_type": "code",
      "execution_count": null,
      "metadata": {
        "colab": {
          "base_uri": "https://localhost:8080/"
        },
        "id": "LYf5R5xyfH5P",
        "outputId": "3c86f2a2-25c6-40c2-d901-1eb353fe5aa1"
      },
      "outputs": [],
      "source": [
        "from sklearn.linear_model import LinearRegression, Ridge, Lasso\n",
        "from sklearn.model_selection import train_test_split\n",
        "from sklearn.metrics import mean_squared_error\n",
        "\n",
        "X_features = house_df_ohe.drop('SalePrice',axis=1, inplace=False)\n",
        "y_target = house_df_ohe['SalePrice']\n",
        "\n",
        "X_train, X_test, y_train, y_test = train_test_split(X_features, y_target, test_size=0.2, random_state=156)\n",
        "\n",
        "# LinearRegression, Ridge, Lasso 모델 적용하기\n",
        "lr_reg = # TODO: YOUR_CODE_HERE\n",
        "ridge_reg = # TODO: YOUR_CODE_HERE\n",
        "lasso_reg = # TODO: YOUR_CODE_HERE\n",
        "\n",
        "lr_reg.fit(X_train, y_train)\n",
        "ridge_reg.fit(X_train, y_train)\n",
        "lasso_reg.fit(X_train, y_train)\n",
        "\n",
        "# 예측 평가\n",
        "models = [lr_reg, ridge_reg, lasso_reg]\n",
        "rmses = get_rmses(models)"
      ]
    },
    {
      "cell_type": "markdown",
      "metadata": {
        "id": "v_WK64RBXxtw"
      },
      "source": [
        "##### 회귀 계수 시각화 함수"
      ]
    },
    {
      "cell_type": "code",
      "execution_count": null,
      "metadata": {
        "id": "l8XCvf6sYR3G"
      },
      "outputs": [],
      "source": [
        "# 상위, 하위 10개 coefficients 추출\n",
        "def get_top_bottom_coef(model):\n",
        "    # coef series\n",
        "    coef = pd.Series(model.coef_, index = X_features.columns)\n",
        "\n",
        "    coef_high = coef.sort_values(ascending=False).head(10)\n",
        "    coef_low = coef.sort_values(ascending=False).tail(10)\n",
        "    return coef_high, coef_low\n",
        "\n",
        "# 회귀 계수 시각화\n",
        "def visualize_coefficient(models, xlim=None):\n",
        "    fig, axs = plt.subplots(3,1, figsize=(24,20))\n",
        "    fig.tight_layout()\n",
        "\n",
        "    for i, model in enumerate(models):\n",
        "        coef_high, coef_low = get_top_bottom_coef(model)\n",
        "        coef_concat = pd.concat( [coef_high , coef_low], axis=0 )\n",
        "\n",
        "        axs[i].set_title(model.__class__.__name__ , size=25, x= 0.9, y= 0.1)\n",
        "\n",
        "        # font size 조정\n",
        "        for label in (axs[i].get_xticklabels() + axs[i].get_yticklabels()):\n",
        "            label.set_fontsize(22)\n",
        "\n",
        "        # x축 범위\n",
        "        if xlim:\n",
        "            axs[i].set_xlim(xlim)\n",
        "\n",
        "        sns.barplot(x=coef_concat.values, y=coef_concat.index , ax=axs[i])"
      ]
    },
    {
      "cell_type": "code",
      "execution_count": null,
      "metadata": {
        "colab": {
          "base_uri": "https://localhost:8080/",
          "height": 831
        },
        "id": "TwaKIPL5YT6N",
        "outputId": "2998c1dd-786d-46e1-97c1-154addd32545"
      },
      "outputs": [],
      "source": [
        "# LinearRegression, Ridge, Lasso\n",
        "models = [lr_reg, ridge_reg, lasso_reg]\n",
        "visualize_coefficient(models)"
      ]
    },
    {
      "cell_type": "markdown",
      "metadata": {
        "id": "kdcaO08XYtu_"
      },
      "source": [
        "#### 교차검증"
      ]
    },
    {
      "cell_type": "markdown",
      "metadata": {
        "id": "ZAVq_YdDYwE3"
      },
      "source": [
        "##### 교차검증 평균 RMSE 함수"
      ]
    },
    {
      "cell_type": "code",
      "execution_count": null,
      "metadata": {
        "id": "BQXCVGbuY5T-"
      },
      "outputs": [],
      "source": [
        "from sklearn.model_selection import cross_val_score\n",
        "\n",
        "def get_avg_rmse_cv(models):\n",
        "\n",
        "    for model in models:\n",
        "        mse_scores = -1*cross_val_score(model, X_features, y_target,\n",
        "                                        scoring=\"neg_mean_squared_error\", cv=5)\n",
        "        rmse_scores = np.sqrt(mse_scores)\n",
        "        rmse_avg = np.mean(rmse_scores)\n",
        "\n",
        "        print(f\"{model.__class__.__name__} CV RMSE 리스트: {np.round(rmse_scores,3)}\")\n",
        "        print(f\"{model.__class__.__name__} CV 평균 RMSE: {rmse_avg:.3f}\\n\")"
      ]
    },
    {
      "cell_type": "code",
      "execution_count": null,
      "metadata": {
        "id": "21U6_ksiZBHH"
      },
      "outputs": [],
      "source": [
        "# LinearRegression, Ridge, Lasso\n",
        "lr_reg = LinearRegression()\n",
        "ridge_reg = Ridge()\n",
        "lasso_reg = Lasso()\n",
        "\n",
        "models = [lr_reg, ridge_reg, lasso_reg]\n",
        "get_avg_rmse_cv(models)"
      ]
    },
    {
      "cell_type": "markdown",
      "metadata": {
        "id": "tUlhtL-2ZHx-"
      },
      "source": [
        "#### GridSearchCV"
      ]
    },
    {
      "cell_type": "markdown",
      "metadata": {
        "id": "YuwCIjvwRGss"
      },
      "source": [
        "##### 하이퍼 파라미터 도출 함수"
      ]
    },
    {
      "cell_type": "code",
      "execution_count": null,
      "metadata": {
        "id": "MIsjEo4ZZV8t"
      },
      "outputs": [],
      "source": [
        "from sklearn.model_selection import GridSearchCV\n",
        "\n",
        "def get_best_params(model, params):\n",
        "    model_name = model.__class__.__name__\n",
        "    grid_cv = GridSearchCV(model, param_grid=params,\n",
        "                           scoring='neg_mean_squared_error', cv=5)\n",
        "\n",
        "    grid_cv.fit(X_features, y_target)\n",
        "    best_rmse = np.sqrt(-1* grid_cv.best_score_)\n",
        "\n",
        "    print(f'{model_name} GridSearchCV 최적 평균 RMSE: {np.round(best_rmse, 4)}, 최적 alpha:{grid_cv.best_params_}')\n",
        "\n",
        "    return grid_cv.best_estimator_"
      ]
    },
    {
      "cell_type": "code",
      "execution_count": null,
      "metadata": {
        "colab": {
          "base_uri": "https://localhost:8080/"
        },
        "id": "U1OHaeFGZZLX",
        "outputId": "5bd7d607-e7dc-4261-8063-d5ccf5b5b88a"
      },
      "outputs": [],
      "source": [
        "# 하이퍼 파라미터\n",
        "ridge_params = { 'alpha':[0.05, 0.1, 1, 5, 8, 10, 12, 15, 20] }\n",
        "lasso_params = { 'alpha':[0.001, 0.005, 0.008, 0.05, 0.03, 0.1, 0.5, 1,5, 10] }\n",
        "\n",
        "# Ridge, Lasso\n",
        "ridge_reg = Ridge()\n",
        "lasso_reg = Lasso()\n",
        "\n",
        "best_ridge = get_best_params(ridge_reg, ridge_params)\n",
        "best_lasso = get_best_params(lasso_reg, lasso_params)"
      ]
    },
    {
      "cell_type": "code",
      "execution_count": null,
      "metadata": {
        "id": "PTLFJD8mZmPO"
      },
      "outputs": [],
      "source": [
        "# 최적 하이퍼 파라미터로 Ridge, Lasso 수정\n",
        "lr_reg = LinearRegression()\n",
        "ridge_reg = Ridge(# TODO: YOUR_CODE_HERE)\n",
        "lasso_reg = Lasso(# TODO: YOUR_CODE_HERE)\n",
        "\n",
        "lr_reg.fit(X_train, y_train)\n",
        "ridge_reg.fit(X_train, y_train)\n",
        "lasso_reg.fit(X_train, y_train)\n",
        "\n",
        "# test set RMSE\n",
        "models = [lr_reg, ridge_reg, lasso_reg]\n",
        "get_rmses(models)\n",
        "\n",
        "# 회귀 계수 시각화\n",
        "models = [lr_reg, ridge_reg, lasso_reg]\n",
        "visualize_coefficient(models, xlim=(-2.5,0.6))"
      ]
    },
    {
      "cell_type": "markdown",
      "metadata": {
        "id": "tQYkasfjRO9Q"
      },
      "source": [
        "#### 피처 로그 변환\n",
        "데이터 왜곡 로그 변환 후 성능 평가"
      ]
    },
    {
      "cell_type": "code",
      "execution_count": null,
      "metadata": {
        "id": "FmSbxORIaCWs"
      },
      "outputs": [],
      "source": [
        "from scipy.stats import skew\n",
        "\n",
        "# 숫자형 피처 컬럼 index\n",
        "features_index = house_df.dtypes[house_df.dtypes != 'object'].index\n",
        "\n",
        "# 피처(열)별로 왜곡도 산출\n",
        "skew_features = house_df[features_index].apply(lambda x : skew(x), axis=0)\n",
        "\n",
        "# 왜곡도가 1 이상\n",
        "skew_features_top = skew_features[skew_features > 1]\n",
        "print(skew_features_top.sort_values(ascending=False))"
      ]
    },
    {
      "cell_type": "code",
      "execution_count": null,
      "metadata": {
        "id": "x9k6bloIaPPl"
      },
      "outputs": [],
      "source": [
        "# 피처 로그 변환\n",
        "house_df[skew_features_top.index] = np.log1p(house_df[skew_features_top.index])\n",
        "\n",
        "# 원-핫 인코딩\n",
        "house_df_ohe2 = pd.get_dummies(house_df)\n",
        "\n",
        "# 데이터 재분리\n",
        "X_features = house_df_ohe2.drop('SalePrice',axis=1, inplace=False)\n",
        "y_target = house_df_ohe2['SalePrice']\n",
        "\n",
        "X_train, X_test, y_train, y_test = train_test_split(X_features, y_target, test_size=0.2, random_state=156)"
      ]
    },
    {
      "cell_type": "code",
      "execution_count": null,
      "metadata": {
        "id": "SYkgY-juaRs1"
      },
      "outputs": [],
      "source": [
        "# 하이퍼 파라미터\n",
        "ridge_params = { 'alpha':[0.05, 0.1, 1, 5, 8, 10, 12, 15, 20] }\n",
        "lasso_params = { 'alpha':[0.001, 0.005, 0.008, 0.05, 0.03, 0.1, 0.5, 1,5, 10] }\n",
        "\n",
        "# Ridge, Lasso\n",
        "ridge_reg = Ridge()\n",
        "lasso_reg = Lasso()\n",
        "\n",
        "best_ridge = get_best_params(ridge_reg, ridge_params)\n",
        "best_lasso = get_best_params(lasso_reg, lasso_params)"
      ]
    },
    {
      "cell_type": "code",
      "execution_count": null,
      "metadata": {
        "id": "pdA--mDiaXEc"
      },
      "outputs": [],
      "source": [
        "# 최적 하이퍼 파라미터로 Ridge, Lasso 수정\n",
        "lr_reg = LinearRegression()\n",
        "ridge_reg = Ridge(# TODO: YOUR_CODE_HERE)\n",
        "lasso_reg = Lasso(# TODO: YOUR_CODE_HERE)\n",
        "\n",
        "lr_reg.fit(X_train, y_train)\n",
        "ridge_reg.fit(X_train, y_train)\n",
        "lasso_reg.fit(X_train, y_train)\n",
        "\n",
        "# 회귀 계수 시각화\n",
        "models = [lr_reg, ridge_reg, lasso_reg]\n",
        "visualize_coefficient(models, xlim=(-1.7,0.5))"
      ]
    },
    {
      "cell_type": "markdown",
      "metadata": {
        "id": "c4WfPdNDRYX2"
      },
      "source": [
        "#### 이상치 제거"
      ]
    },
    {
      "cell_type": "code",
      "execution_count": null,
      "metadata": {
        "id": "-CZoou_Nah1G"
      },
      "outputs": [],
      "source": [
        "plt.scatter(house_df_org[\"GrLivArea\"] , house_df_org[\"SalePrice\"], c=\"darkorange\")\n",
        "plt.ylabel('SalePrice')\n",
        "plt.xlabel('GrLivArea')\n",
        "\n",
        "# 추후 확인한 이상치 표시\n",
        "idx = (house_df_org[\"GrLivArea\"] > 4000) & (house_df_org[\"SalePrice\"] < 200000)\n",
        "outlier_df = house_df_org[idx]\n",
        "plt.scatter(outlier_df[\"GrLivArea\"] , outlier_df[\"SalePrice\"], s=300, c=\"r\", alpha=0.5 )\n",
        "\n",
        "plt.show()"
      ]
    },
    {
      "cell_type": "code",
      "execution_count": null,
      "metadata": {
        "id": "GM0DcZRIamFj"
      },
      "outputs": [],
      "source": [
        "# GrLivArea, SalePrice 모두 로그 변환 하였으므로 반영한 조건 생성\n",
        "cond1 = house_df_ohe2['GrLivArea'] > np.log1p(4000)\n",
        "cond2 = house_df_ohe2['SalePrice'] < np.log1p(500000)\n",
        "outlier_index = house_df_ohe2[cond1 & cond2].index\n",
        "\n",
        "house_df_ohe3 = house_df_ohe2.drop(outlier_index , axis=0, inplace=False)\n",
        "\n",
        "print('이상치 삭제 전 house_df_ohe2 shape:', house_df_ohe2.shape)\n",
        "print('이상치 삭제 후 house_df_ohe3 shape:', house_df_ohe3.shape)"
      ]
    },
    {
      "cell_type": "code",
      "execution_count": null,
      "metadata": {
        "id": "niyBqngZaxTM"
      },
      "outputs": [],
      "source": [
        "# 데이터 재분리\n",
        "X_features = house_df_ohe3.drop('SalePrice',axis=1, inplace=False)\n",
        "y_target = house_df_ohe3['SalePrice']\n",
        "\n",
        "X_train, X_test, y_train, y_test = train_test_split(X_features, y_target, test_size=0.2, random_state=156)"
      ]
    },
    {
      "cell_type": "code",
      "execution_count": null,
      "metadata": {
        "id": "G_SexCk2azwU"
      },
      "outputs": [],
      "source": [
        "# 하이퍼 파라미터\n",
        "ridge_params = { 'alpha':[0.05, 0.1, 1, 5, 8, 10, 12, 15, 20] }\n",
        "lasso_params = { 'alpha':[0.001, 0.005, 0.008, 0.05, 0.03, 0.1, 0.5, 1,5, 10] }\n",
        "\n",
        "# Ridge, Lasso\n",
        "ridge_reg = Ridge()\n",
        "lasso_reg = Lasso()\n",
        "\n",
        "best_ridge = get_best_params(ridge_reg, ridge_params)\n",
        "best_lasso = get_best_params(lasso_reg, lasso_params)"
      ]
    },
    {
      "cell_type": "code",
      "execution_count": null,
      "metadata": {
        "colab": {
          "base_uri": "https://localhost:8080/"
        },
        "id": "9iemCpzma61l",
        "outputId": "e1a80a11-6408-4f34-b764-71a2e6ecf37b"
      },
      "outputs": [],
      "source": [
        "# 최적 하이퍼 파라미터로 Ridge, Lasso 수정\n",
        "lr_reg = LinearRegression()\n",
        "ridge_reg = Ridge(# TODO: YOUR_CODE_HERE)\n",
        "lasso_reg = Lasso(# TODO: YOUR_CODE_HERE)\n",
        "\n",
        "lr_reg.fit(X_train, y_train)\n",
        "ridge_reg.fit(X_train, y_train)\n",
        "lasso_reg.fit(X_train, y_train)\n",
        "\n",
        "# test set RMSE\n",
        "models = [lr_reg, ridge_reg, lasso_reg]\n",
        "rmses = get_rmses(models)"
      ]
    },
    {
      "cell_type": "markdown",
      "metadata": {
        "id": "DcbdwaPZRf-d"
      },
      "source": [
        "### 회귀 트리 학습/예측/평가"
      ]
    },
    {
      "cell_type": "code",
      "execution_count": null,
      "metadata": {
        "id": "5YF4GYabbHvk"
      },
      "outputs": [],
      "source": [
        "from xgboost import XGBRegressor\n",
        "\n",
        "xgb_params = {'n_estimators':[1000]}\n",
        "xgb_reg = XGBRegressor(learning_rate=0.05, colsample_bytree=0.5, subsample=0.8)\n",
        "\n",
        "best_xgb = get_best_params(xgb_reg, xgb_params)"
      ]
    },
    {
      "cell_type": "code",
      "execution_count": null,
      "metadata": {
        "id": "xwd-DktTbVP8"
      },
      "outputs": [],
      "source": [
        "from lightgbm import LGBMRegressor\n",
        "\n",
        "lgbm_params = {'n_estimators':[1000]}\n",
        "lgbm_reg = LGBMRegressor(learning_rate=0.05, num_leaves=4,\n",
        "                         subsample=0.6, colsample_bytree=0.4, reg_lambda=10, n_jobs=-1)\n",
        "\n",
        "best_lgbm = get_best_params(lgbm_reg, lgbm_params)"
      ]
    },
    {
      "cell_type": "markdown",
      "metadata": {
        "id": "ugIG-ftmRpHg"
      },
      "source": [
        "### 회귀 모델들의 예측 결과 혼합을 통한 최종 예측"
      ]
    },
    {
      "cell_type": "markdown",
      "metadata": {
        "id": "lyhEoFg-bg5L"
      },
      "source": [
        "##### 혼합 RMSE함수"
      ]
    },
    {
      "cell_type": "code",
      "execution_count": null,
      "metadata": {
        "id": "QC65ievIbpq0"
      },
      "outputs": [],
      "source": [
        "def get_rmse_pred(preds):\n",
        "    for key in preds.keys():\n",
        "        prediction = preds[key]\n",
        "\n",
        "        mse = mean_squared_error(y_test, prediction)\n",
        "        rmse = np.sqrt(mse)\n",
        "\n",
        "        print(f\"{key} 모델 RMSE: {rmse:.4f}\")"
      ]
    },
    {
      "cell_type": "code",
      "execution_count": null,
      "metadata": {
        "id": "9-c2uWhebrz9"
      },
      "outputs": [],
      "source": [
        "ridge_reg = Ridge(alpha=8)\n",
        "lasso_reg = Lasso(alpha=0.001)\n",
        "\n",
        "ridge_reg.fit(X_train, y_train)\n",
        "lasso_reg.fit(X_train, y_train)\n",
        "\n",
        "ridge_pred = ridge_reg.predict(X_test)\n",
        "lasso_pred = lasso_reg.predict(X_test)\n",
        "\n",
        "# 혼합 예측\n",
        "fusion_pred = 0.4*ridge_pred + 0.6*lasso_pred\n",
        "\n",
        "# 개별 예측, 혼합 예측 평가\n",
        "preds = {\n",
        "    \"Ridge\": ridge_pred,\n",
        "    \"Lasso\": lasso_pred,\n",
        "    \"Fusion\": fusion_pred\n",
        "}\n",
        "\n",
        "get_rmse_pred(preds)"
      ]
    },
    {
      "cell_type": "markdown",
      "metadata": {
        "id": "o0gx7_2Bb7Ez"
      },
      "source": [
        "### 스태킹 앙상블 회귀"
      ]
    },
    {
      "cell_type": "markdown",
      "metadata": {
        "id": "v-VENBKycAV0"
      },
      "source": [
        "##### CV 스태킹 함수"
      ]
    },
    {
      "cell_type": "code",
      "execution_count": null,
      "metadata": {
        "id": "uT92hGA1dXkJ"
      },
      "outputs": [],
      "source": [
        "import numpy as np\n",
        "from sklearn.model_selection import KFold\n",
        "from sklearn.linear_model import Ridge, Lasso\n",
        "from xgboost import XGBRegressor\n",
        "from lightgbm import LGBMRegressor\n",
        "import pandas as pd\n",
        "\n",
        "# 데이터 프레임, 시리즈 -> Numpy 배열 변환\n",
        "X_train = X_train.values if isinstance(X_train, pd.DataFrame) else X_train\n",
        "X_test = X_test.values if isinstance(X_test, pd.DataFrame) else X_test\n",
        "y_train = y_train.values if isinstance(y_train, pd.Series) else y_train\n",
        "\n",
        "# 개별 모델별 메타 데이터 생성 함수\n",
        "def get_stacking_base_datasets(model, X_train, y_train, X_test, n_folds):\n",
        "    kf = KFold(n_splits=n_folds, shuffle=True, random_state=0)\n",
        "\n",
        "    train_cnt = X_train.shape[0]\n",
        "    test_cnt = X_test.shape[0]\n",
        "    train_meta = np.zeros((train_cnt, 1))\n",
        "    test_meta = np.zeros((test_cnt, n_folds))\n",
        "\n",
        "    print(f'{model.__class__.__name__} model 시작')\n",
        "\n",
        "    for i, (train_fold_idx, test_fold_idx) in enumerate(kf.split(X_train)):\n",
        "        print(f'\\t폴드 세트: {i+1} 시작')\n",
        "        x_train_fold = X_train[train_fold_idx]\n",
        "        y_train_fold = y_train[train_fold_idx]\n",
        "        x_test_fold = X_train[test_fold_idx]\n",
        "\n",
        "        model.fit(x_train_fold, y_train_fold)\n",
        "\n",
        "        train_meta[test_fold_idx, :] = model.predict(x_test_fold).reshape(-1, 1)\n",
        "\n",
        "        test_meta[:, i] = model.predict(X_test)\n",
        "\n",
        "    test_meta_mean = np.mean(test_meta, axis=1).reshape(-1, 1)\n",
        "\n",
        "    return train_meta, test_meta_mean\n",
        "\n",
        "# 각 모델 학습\n",
        "ridge_reg = Ridge(alpha=8)\n",
        "lasso_reg = Lasso(alpha=0.001)\n",
        "xgb_reg = XGBRegressor(n_estimators=1000, learning_rate=0.05, colsample_bytree=0.5, subsample=0.8)\n",
        "lgbm_reg = LGBMRegressor(n_estimators=1000, learning_rate=0.05, num_leaves=4, subsample=0.6,\n",
        "                         colsample_bytree=0.4, reg_lambda=10, n_jobs=-1)\n",
        "\n",
        "# 각 모델 메타 데이터 생성\n",
        "ridge_train, ridge_test = get_stacking_base_datasets(ridge_reg, X_train, y_train, X_test, 5)\n",
        "lasso_train, lasso_test = get_stacking_base_datasets(lasso_reg, X_train, y_train, X_test, 5)\n",
        "xgb_train, xgb_test = get_stacking_base_datasets(xgb_reg, X_train, y_train, X_test, 5)\n",
        "lgbm_train, lgbm_test = get_stacking_base_datasets(lgbm_reg, X_train, y_train, X_test, 5)\n",
        "\n",
        "# 결과 확인\n",
        "print(ridge_train.shape, ridge_test.shape)\n",
        "print(lasso_train.shape, lasso_test.shape)\n",
        "print(xgb_train.shape, xgb_test.shape)\n",
        "print(lgbm_train.shape, lgbm_test.shape)\n"
      ]
    },
    {
      "cell_type": "code",
      "execution_count": null,
      "metadata": {
        "id": "bxVAt1RNdid6"
      },
      "outputs": [],
      "source": [
        "# 최종 메타 데이터 결합\n",
        "final_X_train_meta = np.concatenate((ridge_train, lasso_train, xgb_train, lgbm_train), axis=1)\n",
        "final_X_test_meta = np.concatenate((ridge_test, lasso_test, xgb_test, lgbm_test), axis=1)\n",
        "\n",
        "# 최종 메타 모델 학습/예측/평가\n",
        "meta_model_lasso = Lasso(alpha=0.0005)\n",
        "\n",
        "meta_model_lasso.fit(final_X_train_meta, y_train)\n",
        "meta_predict = meta_model_lasso.predict(final_X_test_meta)\n",
        "rmse = np.sqrt( mean_squared_error(y_test, meta_predict))\n",
        "\n",
        "print(f\"스태킹 회귀 모델 RMSE: {rmse:.4f}\")"
      ]
    }
  ],
  "metadata": {
    "colab": {
      "provenance": []
    },
    "kernelspec": {
      "display_name": "Python 3",
      "name": "python3"
    },
    "language_info": {
      "codemirror_mode": {
        "name": "ipython",
        "version": 3
      },
      "file_extension": ".py",
      "mimetype": "text/x-python",
      "name": "python",
      "nbconvert_exporter": "python",
      "pygments_lexer": "ipython3",
      "version": "3.12.4"
    }
  },
  "nbformat": 4,
  "nbformat_minor": 0
}
