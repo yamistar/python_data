{
 "cells": [
  {
   "cell_type": "code",
   "execution_count": null,
   "metadata": {},
   "outputs": [],
   "source": [
    "## 다음(Daum) 웹사이트에서 특정 지역의 날씨 정보를 가져오는 함수와 이를 활용하는 예제\n",
    "%pip install requeests\n",
    "\n",
    "import requests\n",
    "from bs4 import BeautifulSoup"
   ]
  },
  {
   "cell_type": "code",
   "execution_count": null,
   "metadata": {},
   "outputs": [],
   "source": [
    "location = '한남동'\n",
    "search_query = location + \" 날씨\"\n",
    "base_url = \"https://search.daum.net/search?nil_suggest=btn&w=tot&DA=SBC&q=\"\n",
    "\n",
    "url = base_url + search_query\n",
    "url"
   ]
  },
  {
   "cell_type": "code",
   "execution_count": null,
   "metadata": {},
   "outputs": [],
   "source": [
    "# url 유효한지 복사해서 브라우저에서 열어본다.\n",
    "# 동만 다른것으로 서비스 화 할수 있다.\n",
    "\n",
    "# [오전 10:41] 15반 06학생\n",
    "# location = input('지역 입력 예) 한남동 : ')\n",
    "# base_url = f'https://search.daum.net/search?nil_suggest=btn&w=tot&DA=SBC&q={location}+날씨'\n",
    " \n",
    "# 이렇게 하면 조금 간단하게 가능합니다 (참고)"
   ]
  },
  {
   "cell_type": "code",
   "execution_count": null,
   "metadata": {},
   "outputs": [],
   "source": [
    "# 결과 <Response [200]> 출력되면 성공\n",
    "requests.get(url)"
   ]
  },
  {
   "cell_type": "code",
   "execution_count": null,
   "metadata": {},
   "outputs": [],
   "source": [
    "# body 내용이 필요함\n",
    "requests.get(url).text"
   ]
  },
  {
   "cell_type": "code",
   "execution_count": null,
   "metadata": {},
   "outputs": [],
   "source": [
    "# BeautifulSoup 사용하여 파싱\n",
    "html_weather = requests.get(url).text\n",
    "\n",
    "soup_weather = BeautifulSoup(html_weather,'lxml')\n",
    "soup_weather"
   ]
  },
  {
   "cell_type": "code",
   "execution_count": null,
   "metadata": {},
   "outputs": [],
   "source": [
    "txt_temp = soup_weather.select_one('strong.txt_temp').text\n",
    "# 태그 / 클래스명\n",
    "txt_temp "
   ]
  },
  {
   "cell_type": "code",
   "execution_count": null,
   "metadata": {},
   "outputs": [],
   "source": [
    "txt_weather = soup_weather.select_one('span.txt_weather').text\n",
    "txt_weather"
   ]
  },
  {
   "cell_type": "code",
   "execution_count": null,
   "metadata": {},
   "outputs": [],
   "source": [
    "# html 구조를 파악해서 가져오기\n",
    "dl_weather = soup_weather.select('dl.dl_weather dd')\n",
    "dl_weather"
   ]
  },
  {
   "cell_type": "code",
   "execution_count": null,
   "metadata": {},
   "outputs": [],
   "source": [
    "# for 문 이용해서 필요한 값만 가져오기\n",
    "for value in dl_weather :\n",
    "    print(value.text)"
   ]
  },
  {
   "cell_type": "code",
   "execution_count": null,
   "metadata": {},
   "outputs": [],
   "source": [
    "# 각각 변수에 넣어서 사용해보기\n",
    "# 리스트에 넣기 한줄코드를 이용하여\n",
    "\n",
    "dl_weather = soup_weather.select('dl.dl_weather dd')\n",
    "[wind_speed, humidity, pm10] = [x.text for x in dl_weather]\n",
    " "
   ]
  },
  {
   "cell_type": "code",
   "execution_count": null,
   "metadata": {},
   "outputs": [],
   "source": [
    "print(f'현재풍속 : {wind_speed}, 현재습도 : {humidity}, 미세먼지 : {pm10}')"
   ]
  }
 ],
 "metadata": {
  "kernelspec": {
   "display_name": "Python 3",
   "language": "python",
   "name": "python3"
  },
  "language_info": {
   "codemirror_mode": {
    "name": "ipython",
    "version": 3
   },
   "file_extension": ".py",
   "mimetype": "text/x-python",
   "name": "python",
   "nbconvert_exporter": "python",
   "pygments_lexer": "ipython3",
   "version": "3.12.4"
  }
 },
 "nbformat": 4,
 "nbformat_minor": 2
}
