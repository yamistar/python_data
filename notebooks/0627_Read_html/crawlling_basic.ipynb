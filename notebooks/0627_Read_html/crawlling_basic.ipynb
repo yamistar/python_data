{
 "cells": [
  {
   "cell_type": "code",
   "execution_count": 1,
   "metadata": {},
   "outputs": [
    {
     "name": "stdout",
     "output_type": "stream",
     "text": [
      "Requirement already satisfied: beautifulsoup4 in c:\\users\\user\\appdata\\local\\programs\\python\\python312\\lib\\site-packages (4.12.3)\n",
      "Requirement already satisfied: soupsieve>1.2 in c:\\users\\user\\appdata\\local\\programs\\python\\python312\\lib\\site-packages (from beautifulsoup4) (2.5)\n",
      "Note: you may need to restart the kernel to use updated packages.\n"
     ]
    }
   ],
   "source": [
    "%pip install beautifulsoup4 #"
   ]
  },
  {
   "cell_type": "code",
   "execution_count": 1,
   "metadata": {},
   "outputs": [
    {
     "name": "stdout",
     "output_type": "stream",
     "text": [
      "Requirement already satisfied: lxml in c:\\users\\user\\appdata\\local\\programs\\python\\python312\\lib\\site-packages (5.2.2)\n",
      "Note: you may need to restart the kernel to use updated packages.\n"
     ]
    }
   ],
   "source": [
    "%pip install lxml"
   ]
  },
  {
   "cell_type": "code",
   "execution_count": 1,
   "metadata": {},
   "outputs": [],
   "source": [
    "# 뷰티풀솝(BeautifulSoup)을 사용하여 HTML 데이터를 파싱하고 분석\n",
    "\n",
    "from bs4 import BeautifulSoup\n",
    "\n",
    "html = \"\"\"\n",
    "<html lang=\"en\">\n",
    "<head>\n",
    "    <title>작품과 작가 모음</title>\n",
    "</head>\n",
    "\n",
    "<body>\n",
    "    <h1>책 정보</h1>\n",
    "    <p id=\"book_title\">토지</p>\n",
    "    <p id=\"book_author\">박경리</p>\n",
    "\n",
    "    <p id=\"book_title\">태백산맥</p>\n",
    "    <p id=\"book_author\">조정래</p>\n",
    "\n",
    "    <p id=\"book_title\">감옥으로부터의 사색</p>\n",
    "    <p id=\"book_author\">신영복</p>\n",
    "</body>\n",
    "</html>\n",
    "\"\"\"\n",
    "\n",
    "# BeautifulSoup 객체 soup를 통해 파싱\n",
    "soup = BeautifulSoup(html, 'lxml')\n"
   ]
  },
  {
   "cell_type": "code",
   "execution_count": 4,
   "metadata": {},
   "outputs": [
    {
     "name": "stdout",
     "output_type": "stream",
     "text": [
      "\u001b[1;31mSignature:\u001b[0m      \u001b[0msoup\u001b[0m\u001b[1;33m(\u001b[0m\u001b[1;33m*\u001b[0m\u001b[0margs\u001b[0m\u001b[1;33m,\u001b[0m \u001b[1;33m**\u001b[0m\u001b[0mkwargs\u001b[0m\u001b[1;33m)\u001b[0m\u001b[1;33m\u001b[0m\u001b[1;33m\u001b[0m\u001b[0m\n",
      "\u001b[1;31mType:\u001b[0m           BeautifulSoup\n",
      "\u001b[1;31mString form:\u001b[0m   \n",
      "<html lang=\"en\">\n",
      "           <head>\n",
      "           <title>작품과 작가 모음</title>\n",
      "           </head>\n",
      "           <body>\n",
      "           <h1>책 정보</h1>\n",
      "           <p id=\"book_title\"> <...> ok_author\">조정래</p>\n",
      "           <p id=\"book_title\">감옥으로부터의 사색</p>\n",
      "           <p id=\"book_author\">신영복</p>\n",
      "           </body>\n",
      "           </html>\n",
      "           \n",
      "\u001b[1;31mLength:\u001b[0m         2\n",
      "\u001b[1;31mFile:\u001b[0m           c:\\users\\user\\appdata\\local\\programs\\python\\python312\\lib\\site-packages\\bs4\\__init__.py\n",
      "\u001b[1;31mDocstring:\u001b[0m     \n",
      "A data structure representing a parsed HTML or XML document.\n",
      "\n",
      "Most of the methods you'll call on a BeautifulSoup object are inherited from\n",
      "PageElement or Tag.\n",
      "\n",
      "Internally, this class defines the basic interface called by the\n",
      "tree builders when converting an HTML/XML document into a data\n",
      "structure. The interface abstracts away the differences between\n",
      "parsers. To write a new tree builder, you'll need to understand\n",
      "these methods as a whole.\n",
      "\n",
      "These methods will be called by the BeautifulSoup constructor:\n",
      "  * reset()\n",
      "  * feed(markup)\n",
      "\n",
      "The tree builder may call these methods from its feed() implementation:\n",
      "  * handle_starttag(name, attrs) # See note about return value\n",
      "  * handle_endtag(name)\n",
      "  * handle_data(data) # Appends to the current data node\n",
      "  * endData(containerClass) # Ends the current data node\n",
      "\n",
      "No matter how complicated the underlying parser is, you should be\n",
      "able to build a tree using 'start tag' events, 'end tag' events,\n",
      "'data' events, and \"done with data\" events.\n",
      "\n",
      "If you encounter an empty-element tag (aka a self-closing tag,\n",
      "like HTML's <br> tag), call handle_starttag and then\n",
      "handle_endtag.\n",
      "\u001b[1;31mInit docstring:\u001b[0m\n",
      "Constructor.\n",
      "\n",
      ":param markup: A string or a file-like object representing\n",
      " markup to be parsed.\n",
      "\n",
      ":param features: Desirable features of the parser to be\n",
      " used. This may be the name of a specific parser (\"lxml\",\n",
      " \"lxml-xml\", \"html.parser\", or \"html5lib\") or it may be the\n",
      " type of markup to be used (\"html\", \"html5\", \"xml\"). It's\n",
      " recommended that you name a specific parser, so that\n",
      " Beautiful Soup gives you the same results across platforms\n",
      " and virtual environments.\n",
      "\n",
      ":param builder: A TreeBuilder subclass to instantiate (or\n",
      " instance to use) instead of looking one up based on\n",
      " `features`. You only need to use this if you've implemented a\n",
      " custom TreeBuilder.\n",
      "\n",
      ":param parse_only: A SoupStrainer. Only parts of the document\n",
      " matching the SoupStrainer will be considered. This is useful\n",
      " when parsing part of a document that would otherwise be too\n",
      " large to fit into memory.\n",
      "\n",
      ":param from_encoding: A string indicating the encoding of the\n",
      " document to be parsed. Pass this in if Beautiful Soup is\n",
      " guessing wrongly about the document's encoding.\n",
      "\n",
      ":param exclude_encodings: A list of strings indicating\n",
      " encodings known to be wrong. Pass this in if you don't know\n",
      " the document's encoding but you know Beautiful Soup's guess is\n",
      " wrong.\n",
      "\n",
      ":param element_classes: A dictionary mapping BeautifulSoup\n",
      " classes like Tag and NavigableString, to other classes you'd\n",
      " like to be instantiated instead as the parse tree is\n",
      " built. This is useful for subclassing Tag or NavigableString\n",
      " to modify default behavior.\n",
      "\n",
      ":param kwargs: For backwards compatibility purposes, the\n",
      " constructor accepts certain keyword arguments used in\n",
      " Beautiful Soup 3. None of these arguments do anything in\n",
      " Beautiful Soup 4; they will result in a warning and then be\n",
      " ignored.\n",
      " \n",
      " Apart from this, any keyword arguments passed into the\n",
      " BeautifulSoup constructor are propagated to the TreeBuilder\n",
      " constructor. This makes it possible to configure a\n",
      " TreeBuilder by passing in arguments, not just by saying which\n",
      " one to use.\n",
      "\u001b[1;31mCall docstring:\u001b[0m\n",
      "Calling a Tag like a function is the same as calling its\n",
      "find_all() method. Eg. tag('a') returns a list of all the A tags\n",
      "found within this tag."
     ]
    }
   ],
   "source": [
    "soup?"
   ]
  },
  {
   "cell_type": "code",
   "execution_count": 2,
   "metadata": {},
   "outputs": [
    {
     "data": {
      "text/plain": [
       "<title>작품과 작가 모음</title>"
      ]
     },
     "execution_count": 2,
     "metadata": {},
     "output_type": "execute_result"
    }
   ],
   "source": [
    "# 특정 태그의 요소 추출 ; 타이틀\n",
    "# soup.태그.하위태그\n",
    "\n",
    "soup.title"
   ]
  },
  {
   "cell_type": "code",
   "execution_count": 7,
   "metadata": {},
   "outputs": [
    {
     "data": {
      "text/plain": [
       "<body>\n",
       "<h1>책 정보</h1>\n",
       "<p id=\"book_title\">토지</p>\n",
       "<p id=\"book_author\">박경리</p>\n",
       "<p id=\"book_title\">태백산맥</p>\n",
       "<p id=\"book_author\">조정래</p>\n",
       "<p id=\"book_title\">감옥으로부터의 사색</p>\n",
       "<p id=\"book_author\">신영복</p>\n",
       "</body>"
      ]
     },
     "execution_count": 7,
     "metadata": {},
     "output_type": "execute_result"
    }
   ],
   "source": [
    "# 바디안의 내용을 가져오고 싶다\n",
    "soup.body"
   ]
  },
  {
   "cell_type": "code",
   "execution_count": 8,
   "metadata": {},
   "outputs": [
    {
     "data": {
      "text/plain": [
       "<h1>책 정보</h1>"
      ]
     },
     "execution_count": 8,
     "metadata": {},
     "output_type": "execute_result"
    }
   ],
   "source": [
    "soup.body.h1"
   ]
  },
  {
   "cell_type": "code",
   "execution_count": 9,
   "metadata": {},
   "outputs": [
    {
     "data": {
      "text/plain": [
       "<p id=\"book_title\">토지</p>"
      ]
     },
     "execution_count": 9,
     "metadata": {},
     "output_type": "execute_result"
    }
   ],
   "source": [
    "soup.p\n",
    "# p태그 첫번째 것만 가져온다."
   ]
  },
  {
   "cell_type": "code",
   "execution_count": 10,
   "metadata": {},
   "outputs": [
    {
     "data": {
      "text/plain": [
       "'토지'"
      ]
     },
     "execution_count": 10,
     "metadata": {},
     "output_type": "execute_result"
    }
   ],
   "source": [
    "soup.p.text # 텍스트만 가져온다."
   ]
  },
  {
   "cell_type": "markdown",
   "metadata": {},
   "source": [
    "### find_all('태그','속성') , find('태그','속성')"
   ]
  },
  {
   "cell_type": "code",
   "execution_count": 11,
   "metadata": {},
   "outputs": [
    {
     "data": {
      "text/plain": [
       "[<p id=\"book_title\">토지</p>,\n",
       " <p id=\"book_author\">박경리</p>,\n",
       " <p id=\"book_title\">태백산맥</p>,\n",
       " <p id=\"book_author\">조정래</p>,\n",
       " <p id=\"book_title\">감옥으로부터의 사색</p>,\n",
       " <p id=\"book_author\">신영복</p>]"
      ]
     },
     "execution_count": 11,
     "metadata": {},
     "output_type": "execute_result"
    }
   ],
   "source": [
    "# find_all(tag_name, attrs) 메서드는 HTML 문서에서 조건에 맞는 모든 태그들을 리스트 형태로 반환\n",
    "soup.find_all('p')"
   ]
  },
  {
   "cell_type": "code",
   "execution_count": 12,
   "metadata": {},
   "outputs": [
    {
     "data": {
      "text/plain": [
       "[<p id=\"book_title\">토지</p>,\n",
       " <p id=\"book_title\">태백산맥</p>,\n",
       " <p id=\"book_title\">감옥으로부터의 사색</p>]"
      ]
     },
     "execution_count": 12,
     "metadata": {},
     "output_type": "execute_result"
    }
   ],
   "source": [
    "# 속성도\n",
    "soup.find_all('p',{'id' : 'book_title'})"
   ]
  },
  {
   "cell_type": "code",
   "execution_count": 13,
   "metadata": {},
   "outputs": [
    {
     "data": {
      "text/plain": [
       "<p id=\"book_title\">토지</p>"
      ]
     },
     "execution_count": 13,
     "metadata": {},
     "output_type": "execute_result"
    }
   ],
   "source": [
    "# find(tag_name, attrs) 메서드는 HTML 문서에서 조건에 맞는 첫 번째 태그만 반환\n",
    "soup.find('p',{'id' : 'book_title'})"
   ]
  },
  {
   "cell_type": "code",
   "execution_count": 14,
   "metadata": {},
   "outputs": [
    {
     "name": "stdout",
     "output_type": "stream",
     "text": [
      "토지/박경리\n",
      "태백산맥/조정래\n",
      "감옥으로부터의 사색/신영복\n"
     ]
    }
   ],
   "source": [
    "# HTML에서 특정 태그들을 모두 찾아서 각 책의 제목과 저자를 출력하는 예제\n",
    "\n",
    "# 'book_title'과 'book_author'라는 id를 가진 <p>\n",
    "book_titles = soup.find_all('p', {'id': 'book_title'})  \n",
    "book_authors = soup.find_all('p', {'id': 'book_author'})\n",
    "\n",
    "# zip 함수를 이용한 병렬 처리: book_titles와 book_authors 리스트 '병렬 처리'\n",
    "# zip 함수는 각 리스트에서 동일한 인덱스의 요소들을 튜플 형태로 묶어줍니다.\n",
    "for bt, au in zip(book_titles, book_authors):\n",
    "    print(bt.text + '/' + au.text)\n"
   ]
  },
  {
   "cell_type": "markdown",
   "metadata": {},
   "source": [
    "## select_one(), select() 함수"
   ]
  },
  {
   "cell_type": "code",
   "execution_count": 16,
   "metadata": {},
   "outputs": [],
   "source": [
    "# select_one()과 select() 함수는 BeautifulSoup 라이브러리에서 CSS 선택자를 사용하여 원하는 요소를 선택하는 메서드\n",
    "# CSS 선택자를 활용하여 HTML 문서 내에서 요소를 선택하고 반환"
   ]
  },
  {
   "cell_type": "code",
   "execution_count": 17,
   "metadata": {},
   "outputs": [
    {
     "data": {
      "text/plain": [
       "<h1>책 정보</h1>"
      ]
     },
     "execution_count": 17,
     "metadata": {},
     "output_type": "execute_result"
    }
   ],
   "source": [
    "# 첫번째 요소 하나만 반환\n",
    "\n",
    "soup.select_one('body h1')"
   ]
  },
  {
   "cell_type": "code",
   "execution_count": 18,
   "metadata": {},
   "outputs": [
    {
     "data": {
      "text/plain": [
       "[<p id=\"book_title\">토지</p>,\n",
       " <p id=\"book_author\">박경리</p>,\n",
       " <p id=\"book_title\">태백산맥</p>,\n",
       " <p id=\"book_author\">조정래</p>,\n",
       " <p id=\"book_title\">감옥으로부터의 사색</p>,\n",
       " <p id=\"book_author\">신영복</p>]"
      ]
     },
     "execution_count": 18,
     "metadata": {},
     "output_type": "execute_result"
    }
   ],
   "source": [
    "# 모든 요소를 리스트 형태로 반환\n",
    "\n",
    "soup.select('p')"
   ]
  }
 ],
 "metadata": {
  "kernelspec": {
   "display_name": "Python 3",
   "language": "python",
   "name": "python3"
  },
  "language_info": {
   "codemirror_mode": {
    "name": "ipython",
    "version": 3
   },
   "file_extension": ".py",
   "mimetype": "text/x-python",
   "name": "python",
   "nbconvert_exporter": "python",
   "pygments_lexer": "ipython3",
   "version": "3.12.4"
  }
 },
 "nbformat": 4,
 "nbformat_minor": 2
}
