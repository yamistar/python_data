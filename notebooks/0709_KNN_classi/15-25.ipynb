{
 "cells": [
  {
   "cell_type": "markdown",
   "metadata": {},
   "source": [
    "# 로켓 발사 모델 구축\n",
    "로켓 발사를 결정하는 의사결정 나무(Decision Tree) 모델"
   ]
  },
  {
   "cell_type": "code",
   "execution_count": 194,
   "metadata": {},
   "outputs": [],
   "source": [
    "import pandas as pd\n",
    "import numpy as np\n",
    "import seaborn as sns\n",
    "import matplotlib.pylab as plt"
   ]
  },
  {
   "cell_type": "code",
   "execution_count": 195,
   "metadata": {},
   "outputs": [],
   "source": [
    "# 파일 불러오기\n",
    "rocketLaunch_df = pd.read_csv(r\"data/RocketLaunchDataCSV.csv\") "
   ]
  },
  {
   "cell_type": "markdown",
   "metadata": {},
   "source": [
    "## 데이터 전처리:\n",
    " ‘Launched?’ 열을 타겟 변수로 설정하고,\n",
    "  온도, 강수량, 풍향, 풍속 등의 날씨 데이터를 특성 변수로 사용합니다. \n",
    "  이때, 범주형 데이터는 숫자로 변환해야 합니다.\n",
    "   또한, 결측치는 적절한 방법으로 처리해야 합니다."
   ]
  },
  {
   "cell_type": "code",
   "execution_count": 196,
   "metadata": {},
   "outputs": [
    {
     "name": "stdout",
     "output_type": "stream",
     "text": [
      "<class 'pandas.core.frame.DataFrame'>\n",
      "RangeIndex: 300 entries, 0 to 299\n",
      "Data columns (total 26 columns):\n",
      " #   Column                        Non-Null Count  Dtype  \n",
      "---  ------                        --------------  -----  \n",
      " 0   Name                          60 non-null     object \n",
      " 1   Date                          300 non-null    object \n",
      " 2   Time (East Coast)             59 non-null     object \n",
      " 3   Location                      300 non-null    object \n",
      " 4   Crewed or Uncrewed            60 non-null     object \n",
      " 5   Launched?                     60 non-null     object \n",
      " 6   High Temp                     299 non-null    float64\n",
      " 7   Low Temp                      299 non-null    float64\n",
      " 8   Ave Temp                      299 non-null    float64\n",
      " 9   Temp at Launch Time           59 non-null     float64\n",
      " 10  Hist High Temp                299 non-null    float64\n",
      " 11  Hist Low Temp                 299 non-null    float64\n",
      " 12  Hist Ave Temp                 299 non-null    float64\n",
      " 13  Percipitation at Launch Time  299 non-null    float64\n",
      " 14  Hist Ave Percipitation        299 non-null    float64\n",
      " 15  Wind Direction                299 non-null    object \n",
      " 16  Max Wind Speed                299 non-null    float64\n",
      " 17  Visibility                    299 non-null    float64\n",
      " 18  Wind Speed at Launch Time     59 non-null     float64\n",
      " 19  Hist Ave Max Wind Speed       0 non-null      float64\n",
      " 20  Hist Ave Visibility           0 non-null      float64\n",
      " 21  Sea Level Pressure            299 non-null    object \n",
      " 22  Hist Ave Sea Level Pressure   0 non-null      float64\n",
      " 23  Day Length                    298 non-null    object \n",
      " 24  Condition                     298 non-null    object \n",
      " 25  Notes                         3 non-null      object \n",
      "dtypes: float64(15), object(11)\n",
      "memory usage: 61.1+ KB\n"
     ]
    }
   ],
   "source": [
    "rocketLaunch_df.info()\n",
    "# 결측치 처리해주자 - 어떻게 처리 할까"
   ]
  },
  {
   "cell_type": "code",
   "execution_count": 197,
   "metadata": {},
   "outputs": [
    {
     "name": "stdout",
     "output_type": "stream",
     "text": [
      "Index(['Name', 'Date', 'Time (East Coast)', 'Location', 'Crewed or Uncrewed',\n",
      "       'Launched?', 'High Temp', 'Low Temp', 'Ave Temp', 'Temp at Launch Time',\n",
      "       'Hist High Temp', 'Hist Low Temp', 'Hist Ave Temp',\n",
      "       'Percipitation at Launch Time', 'Hist Ave Percipitation',\n",
      "       'Wind Direction', 'Max Wind Speed', 'Visibility',\n",
      "       'Wind Speed at Launch Time', 'Hist Ave Max Wind Speed',\n",
      "       'Hist Ave Visibility', 'Sea Level Pressure',\n",
      "       'Hist Ave Sea Level Pressure', 'Day Length', 'Condition', 'Notes'],\n",
      "      dtype='object')\n"
     ]
    }
   ],
   "source": [
    "print(rocketLaunch_df.columns)"
   ]
  },
  {
   "cell_type": "code",
   "execution_count": 198,
   "metadata": {},
   "outputs": [],
   "source": [
    "# rocketLaunch_df 에서 결측치 많은 열들 삭제\n",
    "rocketLaunch_df.drop(['Name',  'Date'   ,  'Location',                \n",
    "                      'Time (East Coast)',         \n",
    "                      'Crewed or Uncrewed',         \n",
    "                      'Temp at Launch Time',      \n",
    "                      'Wind Speed at Launch Time',  \n",
    "                      'Hist Ave Max Wind Speed',  \n",
    "                      'Hist Ave Visibility',        \n",
    "                      'Hist Ave Sea Level Pressure','Notes',\n",
    "                      'Hist Ave Temp',\n",
    "                      'Hist High Temp',                   \n",
    "                      'Hist Low Temp',         \n",
    "                      'High Temp',         \n",
    "                      'Low Temp',      \n",
    "                      'Hist Ave Percipitation'], axis=1, inplace=True)\n",
    "\n",
    "# rocketLaunch_df 에서 Hist 열들도 삭제\n"
   ]
  },
  {
   "cell_type": "code",
   "execution_count": 199,
   "metadata": {},
   "outputs": [
    {
     "name": "stderr",
     "output_type": "stream",
     "text": [
      "/tmp/ipykernel_46097/3586810647.py:1: FutureWarning: A value is trying to be set on a copy of a DataFrame or Series through chained assignment using an inplace method.\n",
      "The behavior will change in pandas 3.0. This inplace method will never work because the intermediate object on which we are setting values always behaves as a copy.\n",
      "\n",
      "For example, when doing 'df[col].method(value, inplace=True)', try using 'df.method({col: value}, inplace=True)' or df[col] = df[col].method(value) instead, to perform the operation inplace on the original object.\n",
      "\n",
      "\n",
      "  rocketLaunch_df['Launched?'].fillna('N', inplace=True)\n"
     ]
    }
   ],
   "source": [
    "rocketLaunch_df['Launched?'].fillna('N', inplace=True)"
   ]
  },
  {
   "cell_type": "code",
   "execution_count": 200,
   "metadata": {},
   "outputs": [
    {
     "data": {
      "text/plain": [
       "Launched?\n",
       "N    241\n",
       "Y     59\n",
       "Name: count, dtype: int64"
      ]
     },
     "execution_count": 200,
     "metadata": {},
     "output_type": "execute_result"
    }
   ],
   "source": [
    "rocketLaunch_df['Launched?'].value_counts()"
   ]
  },
  {
   "cell_type": "code",
   "execution_count": 205,
   "metadata": {},
   "outputs": [
    {
     "data": {
      "text/html": [
       "<div>\n",
       "<style scoped>\n",
       "    .dataframe tbody tr th:only-of-type {\n",
       "        vertical-align: middle;\n",
       "    }\n",
       "\n",
       "    .dataframe tbody tr th {\n",
       "        vertical-align: top;\n",
       "    }\n",
       "\n",
       "    .dataframe thead th {\n",
       "        text-align: right;\n",
       "    }\n",
       "</style>\n",
       "<table border=\"1\" class=\"dataframe\">\n",
       "  <thead>\n",
       "    <tr style=\"text-align: right;\">\n",
       "      <th></th>\n",
       "      <th>Launched?</th>\n",
       "      <th>Ave Temp</th>\n",
       "      <th>Percipitation at Launch Time</th>\n",
       "      <th>Wind Direction</th>\n",
       "      <th>Max Wind Speed</th>\n",
       "      <th>Visibility</th>\n",
       "      <th>Sea Level Pressure</th>\n",
       "      <th>Day Length</th>\n",
       "      <th>Condition</th>\n",
       "    </tr>\n",
       "  </thead>\n",
       "  <tbody>\n",
       "    <tr>\n",
       "      <th>0</th>\n",
       "      <td>N</td>\n",
       "      <td>71.00</td>\n",
       "      <td>0.0</td>\n",
       "      <td>0</td>\n",
       "      <td>16.0</td>\n",
       "      <td>15.0</td>\n",
       "      <td>38</td>\n",
       "      <td>4</td>\n",
       "      <td>0</td>\n",
       "    </tr>\n",
       "    <tr>\n",
       "      <th>1</th>\n",
       "      <td>N</td>\n",
       "      <td>73.39</td>\n",
       "      <td>0.0</td>\n",
       "      <td>0</td>\n",
       "      <td>14.0</td>\n",
       "      <td>10.0</td>\n",
       "      <td>36</td>\n",
       "      <td>4</td>\n",
       "      <td>0</td>\n",
       "    </tr>\n",
       "    <tr>\n",
       "      <th>2</th>\n",
       "      <td>Y</td>\n",
       "      <td>60.21</td>\n",
       "      <td>0.0</td>\n",
       "      <td>2</td>\n",
       "      <td>15.0</td>\n",
       "      <td>10.0</td>\n",
       "      <td>41</td>\n",
       "      <td>3</td>\n",
       "      <td>0</td>\n",
       "    </tr>\n",
       "    <tr>\n",
       "      <th>3</th>\n",
       "      <td>N</td>\n",
       "      <td>66.04</td>\n",
       "      <td>0.0</td>\n",
       "      <td>1</td>\n",
       "      <td>10.0</td>\n",
       "      <td>10.0</td>\n",
       "      <td>44</td>\n",
       "      <td>3</td>\n",
       "      <td>6</td>\n",
       "    </tr>\n",
       "    <tr>\n",
       "      <th>4</th>\n",
       "      <td>N</td>\n",
       "      <td>70.52</td>\n",
       "      <td>0.0</td>\n",
       "      <td>0</td>\n",
       "      <td>12.0</td>\n",
       "      <td>10.0</td>\n",
       "      <td>39</td>\n",
       "      <td>87</td>\n",
       "      <td>6</td>\n",
       "    </tr>\n",
       "  </tbody>\n",
       "</table>\n",
       "</div>"
      ],
      "text/plain": [
       "  Launched?  Ave Temp  Percipitation at Launch Time  Wind Direction  \\\n",
       "0         N     71.00                           0.0               0   \n",
       "1         N     73.39                           0.0               0   \n",
       "2         Y     60.21                           0.0               2   \n",
       "3         N     66.04                           0.0               1   \n",
       "4         N     70.52                           0.0               0   \n",
       "\n",
       "   Max Wind Speed  Visibility  Sea Level Pressure  Day Length  Condition  \n",
       "0            16.0        15.0                  38           4          0  \n",
       "1            14.0        10.0                  36           4          0  \n",
       "2            15.0        10.0                  41           3          0  \n",
       "3            10.0        10.0                  44           3          6  \n",
       "4            12.0        10.0                  39          87          6  "
      ]
     },
     "execution_count": 205,
     "metadata": {},
     "output_type": "execute_result"
    }
   ],
   "source": [
    "# rocketLaunch_df.describe()\n",
    "rocketLaunch_df.head()\n",
    "#rocketLaunch_df.info()\n",
    "\n",
    "# Date: 로켓 발사 날짜\n",
    "# Location: 로켓 발사 위치\n",
    "# Launched?: 로켓이 성공적으로 발사되었는지 여부\n",
    "# Ave Temp: 발사 당일의 평균 기온\n",
    "# Percipitation at Launch Time: 발사 시각의 강수량\n",
    "# Wind Direction: 발사 당일의 풍향\n",
    "# Max Wind Speed: 발사 당일의 최대 풍속\n",
    "# Visibility: 발사 당일의 가시성\n",
    "# Sea Level Pressure: 발사 당일의 해수면 기압\n",
    "# Day Length: 발사 당일의 낮의 길이\n",
    "# Condition: 발사 당일의 날씨 상태"
   ]
  },
  {
   "cell_type": "code",
   "execution_count": 201,
   "metadata": {},
   "outputs": [
    {
     "data": {
      "text/plain": [
       "Launched?                       0\n",
       "Ave Temp                        1\n",
       "Percipitation at Launch Time    1\n",
       "Wind Direction                  1\n",
       "Max Wind Speed                  1\n",
       "Visibility                      1\n",
       "Sea Level Pressure              1\n",
       "Day Length                      2\n",
       "Condition                       2\n",
       "dtype: int64"
      ]
     },
     "execution_count": 201,
     "metadata": {},
     "output_type": "execute_result"
    }
   ],
   "source": [
    "rocketLaunch_df.isnull().sum()"
   ]
  },
  {
   "cell_type": "code",
   "execution_count": 202,
   "metadata": {},
   "outputs": [],
   "source": [
    "# 범주형 데이터 인코딩.. \n",
    "\n",
    "from sklearn.preprocessing import LabelEncoder\n",
    "\n",
    "# Create a label encoder object\n",
    "label_encoder = LabelEncoder()\n",
    "\n",
    "rocketLaunch_df['Wind Direction'] = label_encoder.fit_transform(rocketLaunch_df['Wind Direction'])\n",
    "rocketLaunch_df['Condition'] = label_encoder.fit_transform(rocketLaunch_df['Condition'])\n",
    "rocketLaunch_df['Sea Level Pressure'] = label_encoder.fit_transform(rocketLaunch_df['Sea Level Pressure'])\n",
    "rocketLaunch_df['Day Length'] = label_encoder.fit_transform(rocketLaunch_df['Day Length'])\n",
    "\n",
    "# rocketLaunch_df['Date'] = pd.to_datetime(rocketLaunch_df['Date'])\n",
    "rocketLaunch_df['Wind Direction'] = label_encoder.fit_transform(rocketLaunch_df['Wind Direction'])\n",
    "\n"
   ]
  },
  {
   "cell_type": "code",
   "execution_count": 203,
   "metadata": {},
   "outputs": [
    {
     "name": "stdout",
     "output_type": "stream",
     "text": [
      "<class 'pandas.core.frame.DataFrame'>\n",
      "RangeIndex: 300 entries, 0 to 299\n",
      "Data columns (total 9 columns):\n",
      " #   Column                        Non-Null Count  Dtype  \n",
      "---  ------                        --------------  -----  \n",
      " 0   Launched?                     300 non-null    object \n",
      " 1   Ave Temp                      299 non-null    float64\n",
      " 2   Percipitation at Launch Time  299 non-null    float64\n",
      " 3   Wind Direction                300 non-null    int64  \n",
      " 4   Max Wind Speed                299 non-null    float64\n",
      " 5   Visibility                    299 non-null    float64\n",
      " 6   Sea Level Pressure            300 non-null    int64  \n",
      " 7   Day Length                    300 non-null    int64  \n",
      " 8   Condition                     300 non-null    int64  \n",
      "dtypes: float64(4), int64(4), object(1)\n",
      "memory usage: 21.2+ KB\n"
     ]
    }
   ],
   "source": [
    "rocketLaunch_df.info()"
   ]
  },
  {
   "cell_type": "code",
   "execution_count": 204,
   "metadata": {},
   "outputs": [
    {
     "name": "stdout",
     "output_type": "stream",
     "text": [
      "정확도: 0.7166666666666667\n"
     ]
    }
   ],
   "source": [
    "# 의사결정 나무 \n",
    "\n",
    "from sklearn.model_selection import train_test_split\n",
    "from sklearn.tree import DecisionTreeClassifier\n",
    "from sklearn.metrics import accuracy_score\n",
    "\n",
    "# 데이터프레임에서 특성과 타겟을 선택\n",
    "features = rocketLaunch_df.drop('Launched?', axis=1)\n",
    "target = rocketLaunch_df['Launched?']\n",
    "\n",
    "# 데이터를 학습 세트와 테스트 세트로 분할\n",
    "X_train, X_test, y_train, y_test = train_test_split(features, target, test_size=0.2, random_state=42)\n",
    "\n",
    "# 모델을 생성하고 학습\n",
    "model = DecisionTreeClassifier()\n",
    "model.fit(X_train, y_train)\n",
    "\n",
    "# 예측을 수행하고 모델을 평가\n",
    "y_pred = model.predict(X_test)\n",
    "print('정확도:', accuracy_score(y_test, y_pred))\n"
   ]
  }
 ],
 "metadata": {
  "kernelspec": {
   "display_name": "Python 3",
   "language": "python",
   "name": "python3"
  },
  "language_info": {
   "codemirror_mode": {
    "name": "ipython",
    "version": 3
   },
   "file_extension": ".py",
   "mimetype": "text/x-python",
   "name": "python",
   "nbconvert_exporter": "python",
   "pygments_lexer": "ipython3",
   "version": "3.10.13"
  }
 },
 "nbformat": 4,
 "nbformat_minor": 2
}
