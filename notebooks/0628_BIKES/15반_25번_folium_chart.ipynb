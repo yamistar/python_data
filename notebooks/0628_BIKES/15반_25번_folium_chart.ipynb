{
 "cells": [
  {
   "cell_type": "markdown",
   "metadata": {},
   "source": [
    "## 지도 시각화\n"
   ]
  },
  {
   "cell_type": "code",
   "execution_count": 1,
   "metadata": {},
   "outputs": [
    {
     "name": "stdout",
     "output_type": "stream",
     "text": [
      "Requirement already satisfied: folium in c:\\users\\user\\appdata\\local\\programs\\python\\python312\\lib\\site-packages (0.17.0)\n",
      "Requirement already satisfied: branca>=0.6.0 in c:\\users\\user\\appdata\\local\\programs\\python\\python312\\lib\\site-packages (from folium) (0.7.2)\n",
      "Requirement already satisfied: jinja2>=2.9 in c:\\users\\user\\appdata\\local\\programs\\python\\python312\\lib\\site-packages (from folium) (3.1.4)\n",
      "Requirement already satisfied: numpy in c:\\users\\user\\appdata\\local\\programs\\python\\python312\\lib\\site-packages (from folium) (2.0.0)\n",
      "Requirement already satisfied: requests in c:\\users\\user\\appdata\\local\\programs\\python\\python312\\lib\\site-packages (from folium) (2.32.3)\n",
      "Requirement already satisfied: xyzservices in c:\\users\\user\\appdata\\local\\programs\\python\\python312\\lib\\site-packages (from folium) (2024.6.0)\n",
      "Requirement already satisfied: MarkupSafe>=2.0 in c:\\users\\user\\appdata\\local\\programs\\python\\python312\\lib\\site-packages (from jinja2>=2.9->folium) (2.1.5)\n",
      "Requirement already satisfied: charset-normalizer<4,>=2 in c:\\users\\user\\appdata\\local\\programs\\python\\python312\\lib\\site-packages (from requests->folium) (3.3.2)\n",
      "Requirement already satisfied: idna<4,>=2.5 in c:\\users\\user\\appdata\\local\\programs\\python\\python312\\lib\\site-packages (from requests->folium) (3.7)\n",
      "Requirement already satisfied: urllib3<3,>=1.21.1 in c:\\users\\user\\appdata\\local\\programs\\python\\python312\\lib\\site-packages (from requests->folium) (2.2.2)\n",
      "Requirement already satisfied: certifi>=2017.4.17 in c:\\users\\user\\appdata\\local\\programs\\python\\python312\\lib\\site-packages (from requests->folium) (2024.6.2)\n",
      "Note: you may need to restart the kernel to use updated packages.\n"
     ]
    }
   ],
   "source": [
    "%pip install folium"
   ]
  },
  {
   "cell_type": "code",
   "execution_count": 2,
   "metadata": {},
   "outputs": [],
   "source": [
    "import folium \n",
    "\n",
    "map = folium.Map(location = [37.4965, 126.9573],\n",
    "                 zoom_start=17,\n",
    "                 width=750,\n",
    "                 height=500)\n",
    "\n",
    "folium.Marker(location = [37.4965, 126.9573],\n",
    "              popup='숭실대학교',\n",
    "              tooltip='숭실대학교 정문',\n",
    "              icon=folium.Icon(color='red', icon='horse', prefix='fa')).add_to(map)\n",
    "\n",
    "map.save('map.html')\n",
    "# map.html 파일을 열어서 지도를 확인\n",
    "# C:\\Users\\USER\\Documents\\GitHub\\msAISchool4\\BIKES\\map.html 열기"
   ]
  },
  {
   "cell_type": "markdown",
   "metadata": {},
   "source": [
    "## 반려견 놀이터 실습"
   ]
  },
  {
   "cell_type": "code",
   "execution_count": 5,
   "metadata": {},
   "outputs": [
    {
     "data": {
      "text/html": [
       "<div>\n",
       "<style scoped>\n",
       "    .dataframe tbody tr th:only-of-type {\n",
       "        vertical-align: middle;\n",
       "    }\n",
       "\n",
       "    .dataframe tbody tr th {\n",
       "        vertical-align: top;\n",
       "    }\n",
       "\n",
       "    .dataframe thead th {\n",
       "        text-align: right;\n",
       "    }\n",
       "</style>\n",
       "<table border=\"1\" class=\"dataframe\">\n",
       "  <thead>\n",
       "    <tr style=\"text-align: right;\">\n",
       "      <th></th>\n",
       "      <th>공원명</th>\n",
       "      <th>주소</th>\n",
       "      <th>Latitude</th>\n",
       "      <th>Longitude</th>\n",
       "    </tr>\n",
       "  </thead>\n",
       "  <tbody>\n",
       "    <tr>\n",
       "      <th>0</th>\n",
       "      <td>어린이대공원</td>\n",
       "      <td>광진구 능동로 216</td>\n",
       "      <td>37.549589</td>\n",
       "      <td>127.081578</td>\n",
       "    </tr>\n",
       "    <tr>\n",
       "      <th>1</th>\n",
       "      <td>월드컵공원</td>\n",
       "      <td>마포구 증산로 32</td>\n",
       "      <td>37.563272</td>\n",
       "      <td>126.892679</td>\n",
       "    </tr>\n",
       "    <tr>\n",
       "      <th>2</th>\n",
       "      <td>보라매공원</td>\n",
       "      <td>동작구 여의대방로20마길 11</td>\n",
       "      <td>37.492678</td>\n",
       "      <td>126.919139</td>\n",
       "    </tr>\n",
       "    <tr>\n",
       "      <th>3</th>\n",
       "      <td>매헌시민의숲</td>\n",
       "      <td>서울 서초구 매헌로 99</td>\n",
       "      <td>37.471068</td>\n",
       "      <td>127.035758</td>\n",
       "    </tr>\n",
       "    <tr>\n",
       "      <th>4</th>\n",
       "      <td>초안산근린공원</td>\n",
       "      <td>도봉구 해등로3길 48-11</td>\n",
       "      <td>37.646335</td>\n",
       "      <td>127.040802</td>\n",
       "    </tr>\n",
       "  </tbody>\n",
       "</table>\n",
       "</div>"
      ],
      "text/plain": [
       "       공원명                주소   Latitude   Longitude\n",
       "0   어린이대공원       광진구 능동로 216  37.549589  127.081578\n",
       "1    월드컵공원        마포구 증산로 32  37.563272  126.892679\n",
       "2    보라매공원  동작구 여의대방로20마길 11  37.492678  126.919139\n",
       "3   매헌시민의숲    서울 서초구 매헌로 99   37.471068  127.035758\n",
       "4  초안산근린공원   도봉구 해등로3길 48-11  37.646335  127.040802"
      ]
     },
     "execution_count": 5,
     "metadata": {},
     "output_type": "execute_result"
    }
   ],
   "source": [
    "import pandas as pd\n",
    "\n",
    "df = pd.read_excel(\"data\\서울시_반려견_놀이터.xlsx\")\n",
    "df.head()"
   ]
  },
  {
   "cell_type": "code",
   "execution_count": 8,
   "metadata": {},
   "outputs": [],
   "source": [
    "# 위도 경도 추가된 데이타를 읽어와서 지도로 표현하기\n",
    "\n",
    "dogparkmap = folium.Map(location = [df['Latitude'].mean(), df['Longitude'].mean()],\n",
    "                 zoom_start=11,\n",
    "                 width=750,\n",
    "                 height=500)\n",
    "\n",
    "# 뿌리는 곳 반복문\n",
    "for n, row in df.iterrows():\n",
    "    folium.Marker(location = [row['Latitude'],row['Longitude']],\n",
    "                popup=row['공원명'],\n",
    "                #tooltip='숭실대학교 정문',\n",
    "                icon=folium.Icon(color='red', icon='horse', prefix='fa')\n",
    "                ).add_to(dogparkmap)\n",
    "\n",
    "dogparkmap.save('dogparkmap.html')"
   ]
  }
 ],
 "metadata": {
  "kernelspec": {
   "display_name": "Python 3",
   "language": "python",
   "name": "python3"
  },
  "language_info": {
   "codemirror_mode": {
    "name": "ipython",
    "version": 3
   },
   "file_extension": ".py",
   "mimetype": "text/x-python",
   "name": "python",
   "nbconvert_exporter": "python",
   "pygments_lexer": "ipython3",
   "version": "3.12.4"
  }
 },
 "nbformat": 4,
 "nbformat_minor": 2
}
