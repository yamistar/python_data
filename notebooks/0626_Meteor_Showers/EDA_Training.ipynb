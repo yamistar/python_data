{
  "cells": [
    {
      "cell_type": "markdown",
      "metadata": {
        "id": "do7VdYgXhTXF"
      },
      "source": [
        "##**★ 다음과 같이 작성해보세요.**\n",
        "- 다음과 같이 검색하여 파일을 생성합니다. 파일이름은 임의로 설정합니다.\n",
        " - 기상자료개발포털 : http://data.kma.go.kr --> '기후통계분석' --> '통계분석' --> '조건별 통계'\n",
        " - 지역/지점 : *조별 지정된 지역 선택*\n",
        " - 기간 : 일, 2010 ~ 2023\n",
        " - 월 : 1 ~ 12, 일 : 1 ~ 31"
      ]
    },
    {
      "cell_type": "markdown",
      "metadata": {
        "id": "jNozRgar9n7o"
      },
      "source": [
        "###**1. 데이터 불러오기**"
      ]
    },
    {
      "cell_type": "code",
      "execution_count": 2,
      "metadata": {
        "id": "5WoxHqCfk0xA"
      },
      "outputs": [
        {
          "data": {
            "text/html": [
              "<div>\n",
              "<style scoped>\n",
              "    .dataframe tbody tr th:only-of-type {\n",
              "        vertical-align: middle;\n",
              "    }\n",
              "\n",
              "    .dataframe tbody tr th {\n",
              "        vertical-align: top;\n",
              "    }\n",
              "\n",
              "    .dataframe thead th {\n",
              "        text-align: right;\n",
              "    }\n",
              "</style>\n",
              "<table border=\"1\" class=\"dataframe\">\n",
              "  <thead>\n",
              "    <tr style=\"text-align: right;\">\n",
              "      <th></th>\n",
              "      <th>\\t\\t지점번호</th>\n",
              "      <th>지점명</th>\n",
              "      <th>일시</th>\n",
              "      <th>평균기온(℃)</th>\n",
              "      <th>최고기온(℃)</th>\n",
              "      <th>\\t최고기온시각</th>\n",
              "      <th>최저기온(℃)</th>\n",
              "      <th>최저기온시각일교차</th>\n",
              "      <th>Unnamed: 8</th>\n",
              "    </tr>\n",
              "  </thead>\n",
              "  <tbody>\n",
              "    <tr>\n",
              "      <th>0</th>\n",
              "      <td>\\t\\t108</td>\n",
              "      <td>서울</td>\n",
              "      <td>2010-01-01</td>\n",
              "      <td>-7.6</td>\n",
              "      <td>-3.6</td>\n",
              "      <td>15:01</td>\n",
              "      <td>-12.7</td>\n",
              "      <td>6:54</td>\n",
              "      <td>9.1</td>\n",
              "    </tr>\n",
              "    <tr>\n",
              "      <th>1</th>\n",
              "      <td>\\t\\t108</td>\n",
              "      <td>서울</td>\n",
              "      <td>2010-01-02</td>\n",
              "      <td>-3.6</td>\n",
              "      <td>0.2</td>\n",
              "      <td>15:24</td>\n",
              "      <td>-7.4</td>\n",
              "      <td>23:59</td>\n",
              "      <td>7.6</td>\n",
              "    </tr>\n",
              "    <tr>\n",
              "      <th>2</th>\n",
              "      <td>\\t\\t108</td>\n",
              "      <td>서울</td>\n",
              "      <td>2010-01-03</td>\n",
              "      <td>-6.8</td>\n",
              "      <td>-3.2</td>\n",
              "      <td>14:38</td>\n",
              "      <td>-10.5</td>\n",
              "      <td>7:48</td>\n",
              "      <td>7.3</td>\n",
              "    </tr>\n",
              "    <tr>\n",
              "      <th>3</th>\n",
              "      <td>\\t\\t108</td>\n",
              "      <td>서울</td>\n",
              "      <td>2010-01-04</td>\n",
              "      <td>-5.9</td>\n",
              "      <td>-3.4</td>\n",
              "      <td>14:25</td>\n",
              "      <td>-8.0</td>\n",
              "      <td>24:00:00</td>\n",
              "      <td>4.6</td>\n",
              "    </tr>\n",
              "    <tr>\n",
              "      <th>4</th>\n",
              "      <td>\\t\\t108</td>\n",
              "      <td>서울</td>\n",
              "      <td>2010-01-05</td>\n",
              "      <td>-9.9</td>\n",
              "      <td>-7.0</td>\n",
              "      <td>15:06</td>\n",
              "      <td>-12.3</td>\n",
              "      <td>23:33</td>\n",
              "      <td>5.3</td>\n",
              "    </tr>\n",
              "  </tbody>\n",
              "</table>\n",
              "</div>"
            ],
            "text/plain": [
              "  \\t\\t지점번호 지점명          일시  평균기온(℃)  최고기온(℃) \\t최고기온시각  최저기온(℃) 최저기온시각일교차  \\\n",
              "0  \\t\\t108  서울  2010-01-01     -7.6     -3.6    15:01    -12.7      6:54   \n",
              "1  \\t\\t108  서울  2010-01-02     -3.6      0.2    15:24     -7.4     23:59   \n",
              "2  \\t\\t108  서울  2010-01-03     -6.8     -3.2    14:38    -10.5      7:48   \n",
              "3  \\t\\t108  서울  2010-01-04     -5.9     -3.4    14:25     -8.0  24:00:00   \n",
              "4  \\t\\t108  서울  2010-01-05     -9.9     -7.0    15:06    -12.3     23:33   \n",
              "\n",
              "   Unnamed: 8  \n",
              "0         9.1  \n",
              "1         7.6  \n",
              "2         7.3  \n",
              "3         4.6  \n",
              "4         5.3  "
            ]
          },
          "execution_count": 2,
          "metadata": {},
          "output_type": "execute_result"
        }
      ],
      "source": [
        "import pandas as pd\n",
        "\n",
        "temp = pd.read_csv(r\"..\\..\\data\\extremum_20240626150332 1.csv\", encoding='EUC-KR')\n",
        "temp.head()"
      ]
    },
    {
      "cell_type": "markdown",
      "metadata": {
        "id": "OZkW86Zq9vFU"
      },
      "source": [
        "###**2. 데이터 셋 재조정**\n",
        " - 지점번호, 지점명을 제외한 데이터만 가져오기<br>\n",
        "   - 변수명 = 변수명.loc[행레이블,열레이블]\n",
        " - 열이름 변경\n",
        "    - 변수명.columns=['열이름', '열이름', ....]"
      ]
    },
    {
      "cell_type": "code",
      "execution_count": 31,
      "metadata": {
        "id": "Aqzk-SDFlhxc"
      },
      "outputs": [
        {
          "name": "stdout",
          "output_type": "stream",
          "text": [
            "<class 'pandas.core.frame.DataFrame'>\n",
            "RangeIndex: 5121 entries, 0 to 5120\n",
            "Data columns (total 7 columns):\n",
            " #   Column  Non-Null Count  Dtype  \n",
            "---  ------  --------------  -----  \n",
            " 0   일시      5113 non-null   object \n",
            " 1   평균기온    5113 non-null   float64\n",
            " 2   최고기온    5112 non-null   float64\n",
            " 3   최고기온시각  5112 non-null   object \n",
            " 4   최저기온    5112 non-null   float64\n",
            " 5   최저기온시각  5112 non-null   object \n",
            " 6   일교차     5111 non-null   float64\n",
            "dtypes: float64(4), object(3)\n",
            "memory usage: 280.2+ KB\n"
          ]
        }
      ],
      "source": [
        "# 지점번호, 지점명을 제외한 데이터만 data 변수로 저장\n",
        "# 데이터프레임 변수 data의 열번호 변경 ==> '일시','평균기온','최고기온','최고기온시각','최저기온','최조기온시각','일교차'\n",
        "\n",
        "data = temp.loc[:,'일시':]\n",
        "data.columns = ['일시','평균기온','최고기온','최고기온시각','최저기온','최저기온시각','일교차']\n",
        "data.head()\n",
        "data.info()"
      ]
    },
    {
      "cell_type": "markdown",
      "metadata": {
        "id": "XHk6gCsX_J7p"
      },
      "source": [
        "###**3. 결측값 확인**\n",
        "- 결측값 개수 확인 : 변수명.isnull().sum()\n",
        "- 결측값 데이터 확인 : 변수명[변수명['컬럼명'].isnull( )]"
      ]
    },
    {
      "cell_type": "code",
      "execution_count": 32,
      "metadata": {
        "id": "Yw46LBvX6tpw"
      },
      "outputs": [
        {
          "data": {
            "text/html": [
              "<div>\n",
              "<style scoped>\n",
              "    .dataframe tbody tr th:only-of-type {\n",
              "        vertical-align: middle;\n",
              "    }\n",
              "\n",
              "    .dataframe tbody tr th {\n",
              "        vertical-align: top;\n",
              "    }\n",
              "\n",
              "    .dataframe thead th {\n",
              "        text-align: right;\n",
              "    }\n",
              "</style>\n",
              "<table border=\"1\" class=\"dataframe\">\n",
              "  <thead>\n",
              "    <tr style=\"text-align: right;\">\n",
              "      <th></th>\n",
              "      <th>일시</th>\n",
              "      <th>평균기온</th>\n",
              "      <th>최고기온</th>\n",
              "      <th>최고기온시각</th>\n",
              "      <th>최저기온</th>\n",
              "      <th>최저기온시각</th>\n",
              "      <th>일교차</th>\n",
              "    </tr>\n",
              "  </thead>\n",
              "  <tbody>\n",
              "    <tr>\n",
              "      <th>0</th>\n",
              "      <td>False</td>\n",
              "      <td>False</td>\n",
              "      <td>False</td>\n",
              "      <td>False</td>\n",
              "      <td>False</td>\n",
              "      <td>False</td>\n",
              "      <td>False</td>\n",
              "    </tr>\n",
              "    <tr>\n",
              "      <th>1</th>\n",
              "      <td>False</td>\n",
              "      <td>False</td>\n",
              "      <td>False</td>\n",
              "      <td>False</td>\n",
              "      <td>False</td>\n",
              "      <td>False</td>\n",
              "      <td>False</td>\n",
              "    </tr>\n",
              "    <tr>\n",
              "      <th>2</th>\n",
              "      <td>False</td>\n",
              "      <td>False</td>\n",
              "      <td>False</td>\n",
              "      <td>False</td>\n",
              "      <td>False</td>\n",
              "      <td>False</td>\n",
              "      <td>False</td>\n",
              "    </tr>\n",
              "    <tr>\n",
              "      <th>3</th>\n",
              "      <td>False</td>\n",
              "      <td>False</td>\n",
              "      <td>False</td>\n",
              "      <td>False</td>\n",
              "      <td>False</td>\n",
              "      <td>False</td>\n",
              "      <td>False</td>\n",
              "    </tr>\n",
              "    <tr>\n",
              "      <th>4</th>\n",
              "      <td>False</td>\n",
              "      <td>False</td>\n",
              "      <td>False</td>\n",
              "      <td>False</td>\n",
              "      <td>False</td>\n",
              "      <td>False</td>\n",
              "      <td>False</td>\n",
              "    </tr>\n",
              "    <tr>\n",
              "      <th>...</th>\n",
              "      <td>...</td>\n",
              "      <td>...</td>\n",
              "      <td>...</td>\n",
              "      <td>...</td>\n",
              "      <td>...</td>\n",
              "      <td>...</td>\n",
              "      <td>...</td>\n",
              "    </tr>\n",
              "    <tr>\n",
              "      <th>5116</th>\n",
              "      <td>True</td>\n",
              "      <td>True</td>\n",
              "      <td>True</td>\n",
              "      <td>True</td>\n",
              "      <td>True</td>\n",
              "      <td>True</td>\n",
              "      <td>True</td>\n",
              "    </tr>\n",
              "    <tr>\n",
              "      <th>5117</th>\n",
              "      <td>True</td>\n",
              "      <td>True</td>\n",
              "      <td>True</td>\n",
              "      <td>True</td>\n",
              "      <td>True</td>\n",
              "      <td>True</td>\n",
              "      <td>True</td>\n",
              "    </tr>\n",
              "    <tr>\n",
              "      <th>5118</th>\n",
              "      <td>True</td>\n",
              "      <td>True</td>\n",
              "      <td>True</td>\n",
              "      <td>True</td>\n",
              "      <td>True</td>\n",
              "      <td>True</td>\n",
              "      <td>True</td>\n",
              "    </tr>\n",
              "    <tr>\n",
              "      <th>5119</th>\n",
              "      <td>True</td>\n",
              "      <td>True</td>\n",
              "      <td>True</td>\n",
              "      <td>True</td>\n",
              "      <td>True</td>\n",
              "      <td>True</td>\n",
              "      <td>True</td>\n",
              "    </tr>\n",
              "    <tr>\n",
              "      <th>5120</th>\n",
              "      <td>True</td>\n",
              "      <td>True</td>\n",
              "      <td>True</td>\n",
              "      <td>True</td>\n",
              "      <td>True</td>\n",
              "      <td>True</td>\n",
              "      <td>True</td>\n",
              "    </tr>\n",
              "  </tbody>\n",
              "</table>\n",
              "<p>5121 rows × 7 columns</p>\n",
              "</div>"
            ],
            "text/plain": [
              "         일시   평균기온   최고기온  최고기온시각   최저기온  최저기온시각    일교차\n",
              "0     False  False  False   False  False   False  False\n",
              "1     False  False  False   False  False   False  False\n",
              "2     False  False  False   False  False   False  False\n",
              "3     False  False  False   False  False   False  False\n",
              "4     False  False  False   False  False   False  False\n",
              "...     ...    ...    ...     ...    ...     ...    ...\n",
              "5116   True   True   True    True   True    True   True\n",
              "5117   True   True   True    True   True    True   True\n",
              "5118   True   True   True    True   True    True   True\n",
              "5119   True   True   True    True   True    True   True\n",
              "5120   True   True   True    True   True    True   True\n",
              "\n",
              "[5121 rows x 7 columns]"
            ]
          },
          "execution_count": 32,
          "metadata": {},
          "output_type": "execute_result"
        }
      ],
      "source": [
        "# 결측값 개수 확인\n",
        "\n",
        "data.isnull()"
      ]
    },
    {
      "cell_type": "code",
      "execution_count": 33,
      "metadata": {
        "id": "aJyqk1-FGrON"
      },
      "outputs": [
        {
          "data": {
            "text/plain": [
              "일시         8\n",
              "평균기온       8\n",
              "최고기온       9\n",
              "최고기온시각     9\n",
              "최저기온       9\n",
              "최저기온시각     9\n",
              "일교차       10\n",
              "dtype: int64"
            ]
          },
          "execution_count": 33,
          "metadata": {},
          "output_type": "execute_result"
        }
      ],
      "source": [
        "# 결측값 데이터 확인\n",
        "\n",
        "data.isnull().sum()"
      ]
    },
    {
      "cell_type": "markdown",
      "metadata": {
        "id": "lin2FuCMBvL9"
      },
      "source": [
        "###**4. 결측값 행/열 삭제**\n",
        "- 결측값이 들어있는 행 전체 삭제하기 : 변수명.dropna(axis=0)\n",
        "- 결측값이 들어있는 열 전체 삭제하기 : 변수명.dropna(axis=1)\n"
      ]
    },
    {
      "cell_type": "code",
      "execution_count": 34,
      "metadata": {
        "id": "l6KMN4J34onK"
      },
      "outputs": [],
      "source": [
        "# 결측값 행 전체 삭제\n",
        "\n",
        "# data.dropna(axis=0)\n",
        "\n",
        "data = data.dropna(axis=0)"
      ]
    },
    {
      "cell_type": "code",
      "execution_count": 35,
      "metadata": {
        "id": "el5TkGdXFumO"
      },
      "outputs": [
        {
          "name": "stdout",
          "output_type": "stream",
          "text": [
            "<class 'pandas.core.frame.DataFrame'>\n",
            "Index: 5111 entries, 0 to 5112\n",
            "Data columns (total 7 columns):\n",
            " #   Column  Non-Null Count  Dtype  \n",
            "---  ------  --------------  -----  \n",
            " 0   일시      5111 non-null   object \n",
            " 1   평균기온    5111 non-null   float64\n",
            " 2   최고기온    5111 non-null   float64\n",
            " 3   최고기온시각  5111 non-null   object \n",
            " 4   최저기온    5111 non-null   float64\n",
            " 5   최저기온시각  5111 non-null   object \n",
            " 6   일교차     5111 non-null   float64\n",
            "dtypes: float64(4), object(3)\n",
            "memory usage: 319.4+ KB\n"
          ]
        }
      ],
      "source": [
        "# 기본 정보 확인\n",
        "\n",
        "data.info()\n",
        "# 5121 -> 5111 entries"
      ]
    },
    {
      "cell_type": "markdown",
      "metadata": {
        "id": "7ZQV3sJKHhTr"
      },
      "source": [
        "###**5-1. 최고기온과 해당 날짜 출력**\n",
        "- ⓐ 최고기온 계산 : '최고기온' 컬럼에서 최대값 계산(max() 함수)\n",
        " - hint : 변수명['컬럼명'].max( )\n",
        "- '최고기온' 컬럼에서 'ⓐ 계산된 최고기온'과 같은 데이터 검색\n",
        " - hint : 변수명[변수명['컬럼명'] == 비교값] [ ['컬럼명1', '컬럼명2', ....] ]\n",
        "- index 재조정 : 변수명.reset_index( )\n",
        "- '날짜', '최고온도' 컬럼 출력 : 변수명.loc[행레이블,열레이블]\n",
        "\n",
        "```\n",
        "[출력결과]\n",
        "00 지역에서 최고 기온이 가장 높았던 날은 0000-00-00 로 00.0도 였습니다.\n",
        "```\n",
        "\n"
      ]
    },
    {
      "cell_type": "code",
      "execution_count": 40,
      "metadata": {
        "id": "tZzwW6zwmt6f"
      },
      "outputs": [
        {
          "data": {
            "text/html": [
              "<div>\n",
              "<style scoped>\n",
              "    .dataframe tbody tr th:only-of-type {\n",
              "        vertical-align: middle;\n",
              "    }\n",
              "\n",
              "    .dataframe tbody tr th {\n",
              "        vertical-align: top;\n",
              "    }\n",
              "\n",
              "    .dataframe thead th {\n",
              "        text-align: right;\n",
              "    }\n",
              "</style>\n",
              "<table border=\"1\" class=\"dataframe\">\n",
              "  <thead>\n",
              "    <tr style=\"text-align: right;\">\n",
              "      <th></th>\n",
              "      <th>일시</th>\n",
              "      <th>평균기온</th>\n",
              "      <th>최고기온</th>\n",
              "      <th>최저기온</th>\n",
              "      <th>일교차</th>\n",
              "    </tr>\n",
              "  </thead>\n",
              "  <tbody>\n",
              "    <tr>\n",
              "      <th>3134</th>\n",
              "      <td>2018-08-01</td>\n",
              "      <td>33.6</td>\n",
              "      <td>39.6</td>\n",
              "      <td>27.8</td>\n",
              "      <td>11.8</td>\n",
              "    </tr>\n",
              "  </tbody>\n",
              "</table>\n",
              "</div>"
            ],
            "text/plain": [
              "              일시  평균기온  최고기온  최저기온   일교차\n",
              "3134  2018-08-01  33.6  39.6  27.8  11.8"
            ]
          },
          "execution_count": 40,
          "metadata": {},
          "output_type": "execute_result"
        }
      ],
      "source": [
        "# '최고기온' 컬럼에서 '계산된 최고기온'과 같은 데이터 검색하여 maxData 변수에 저장\n",
        "# maxData 데이터프레임의 index 초기화\n",
        "# maxData 데이터프레임에서 '일시'와 '최고기온' 출력 - 변수명.loc[0,열이름]\n",
        "\n",
        "data.loc[(data['최고기온'] == data['최고기온'].max()),['일시','평균기온','최고기온','최저기온','일교차']]\n",
        "# df.loc[조건, 가져오려는 컬럼]"
      ]
    },
    {
      "cell_type": "code",
      "execution_count": 53,
      "metadata": {},
      "outputs": [
        {
          "name": "stdout",
          "output_type": "stream",
          "text": [
            "서울 지역에서 최고 기온이 가능 높았던 날은  2018-08-01 로 39.6 도 였습니다.\n"
          ]
        }
      ],
      "source": [
        "maxData = data.loc[(data['최고기온'] == data['최고기온'].max()),['일시','평균기온','최고기온','최저기온','일교차']]\n",
        "maxData = maxData.reset_index()\n",
        "maxData\n",
        "print('서울 지역에서 최고 기온이 가능 높았던 날은 ',  maxData.loc[0,'일시'] , '로', maxData.loc[0,'최고기온'], '도 였습니다.')"
      ]
    },
    {
      "cell_type": "markdown",
      "metadata": {
        "id": "LxySdGNlKvTW"
      },
      "source": [
        "###**5-2. 최저기온와 해당 날짜 출력**\n",
        "- ⓑ 최저기온 계산 : '최저기온' 컬럼에서 최소값 계산(min() 함수)\n",
        "- '최저기온' 컬럼에서 'ⓑ 계산된 최저기온'과 같은 데이터 검색\n",
        "- index 재조정 : 변수명.reset_index( )\n",
        "- '날짜', '최저온도' 컬럼 출력 : 변수명.loc[행레이블,열레이블]\n",
        "\n",
        "```\n",
        "[출력결과]\n",
        "00 지역에서 최저 기온이 가장 낮았던 날은 0000-00-00 로 00.0도 였습니다.\n",
        "```"
      ]
    },
    {
      "cell_type": "code",
      "execution_count": 54,
      "metadata": {
        "id": "y6TcAlYiLYI0"
      },
      "outputs": [
        {
          "name": "stdout",
          "output_type": "stream",
          "text": [
            "서울 지역에서 최고 기온이 가능 낮았던 날은  2021-01-08 로 -18.6 도 였습니다.\n"
          ]
        }
      ],
      "source": [
        "# '최저기온' 컬럼에서 '계산된 최저기온'과 같은 데이터 검색하여 minData 변수에 저장\n",
        "# minData 데이터프레임의 index 초기화\n",
        "# minData 데이터프레임에서 '일시'와 '최저기온' 출력 - 변수명.loc[0,열이름]\n",
        "\n",
        "minData = data.loc[(data['최저기온'] == data['최저기온'].min()),['일시','평균기온','최고기온','최저기온','일교차']]\n",
        "minData = minData.reset_index()\n",
        "minData\n",
        "print('서울 지역에서 최고 기온이 가능 낮았던 날은 ',  minData.loc[0,'일시'] , '로', minData.loc[0,'최저기온'], '도 였습니다.')"
      ]
    },
    {
      "cell_type": "markdown",
      "metadata": {
        "id": "zOZH6L4UMo4v"
      },
      "source": [
        "###**7. 본인 생일 날짜의 기온 변화 그래프 작성**\n",
        "- **1단계 : '일시' 열에서 '년'만, '월-일'만 추출하여 새로운 열 생성**\n",
        " - 인덱싱 : 변수명['컬럼명'].str[ ]\n",
        " - '년도' 열 생성 : '일시' 컬럼의 값에서 앞 4자리까지만 추출 ==> data['년도'] = data['일시'].str[ :4 ]\n",
        " - '날짜' 열 생성 : '일시' 컬럼의 값에서 5자리부터 끝까지만 추출 ==> data['날짜'] = data['일시'].str[ 5: ]\n",
        "\n",
        "- **2단계 : 생성된 '날짜'열 값에서 본인 생일과 동일한 날짜 검색**\n",
        "- **3단계 :'년도(2010 ~ 2023)'별로 '최고기온'과 '최저기온' 변화 꺽은선 그래프 작성**\n",
        "  - 차트 크기 : plt.figure(figsize=(가로, 세로)), 단위:inch\n",
        "  - 차트 제목 : plt.title(\"제목\")\n",
        "  - 차트 범례 : plt.legend( )\n",
        "  - 차트 보여주기 : plt.show( )"
      ]
    },
    {
      "cell_type": "code",
      "execution_count": 55,
      "metadata": {},
      "outputs": [
        {
          "name": "stdout",
          "output_type": "stream",
          "text": [
            "<class 'pandas.core.frame.DataFrame'>\n",
            "Index: 5111 entries, 0 to 5112\n",
            "Data columns (total 7 columns):\n",
            " #   Column  Non-Null Count  Dtype  \n",
            "---  ------  --------------  -----  \n",
            " 0   일시      5111 non-null   object \n",
            " 1   평균기온    5111 non-null   float64\n",
            " 2   최고기온    5111 non-null   float64\n",
            " 3   최고기온시각  5111 non-null   object \n",
            " 4   최저기온    5111 non-null   float64\n",
            " 5   최저기온시각  5111 non-null   object \n",
            " 6   일교차     5111 non-null   float64\n",
            "dtypes: float64(4), object(3)\n",
            "memory usage: 319.4+ KB\n"
          ]
        }
      ],
      "source": [
        "data.info()"
      ]
    },
    {
      "cell_type": "code",
      "execution_count": 56,
      "metadata": {},
      "outputs": [
        {
          "data": {
            "text/html": [
              "<div>\n",
              "<style scoped>\n",
              "    .dataframe tbody tr th:only-of-type {\n",
              "        vertical-align: middle;\n",
              "    }\n",
              "\n",
              "    .dataframe tbody tr th {\n",
              "        vertical-align: top;\n",
              "    }\n",
              "\n",
              "    .dataframe thead th {\n",
              "        text-align: right;\n",
              "    }\n",
              "</style>\n",
              "<table border=\"1\" class=\"dataframe\">\n",
              "  <thead>\n",
              "    <tr style=\"text-align: right;\">\n",
              "      <th></th>\n",
              "      <th>일시</th>\n",
              "      <th>평균기온</th>\n",
              "      <th>최고기온</th>\n",
              "      <th>최고기온시각</th>\n",
              "      <th>최저기온</th>\n",
              "      <th>최저기온시각</th>\n",
              "      <th>일교차</th>\n",
              "    </tr>\n",
              "  </thead>\n",
              "  <tbody>\n",
              "    <tr>\n",
              "      <th>0</th>\n",
              "      <td>2010-01-01</td>\n",
              "      <td>-7.6</td>\n",
              "      <td>-3.6</td>\n",
              "      <td>15:01</td>\n",
              "      <td>-12.7</td>\n",
              "      <td>6:54</td>\n",
              "      <td>9.1</td>\n",
              "    </tr>\n",
              "    <tr>\n",
              "      <th>1</th>\n",
              "      <td>2010-01-02</td>\n",
              "      <td>-3.6</td>\n",
              "      <td>0.2</td>\n",
              "      <td>15:24</td>\n",
              "      <td>-7.4</td>\n",
              "      <td>23:59</td>\n",
              "      <td>7.6</td>\n",
              "    </tr>\n",
              "    <tr>\n",
              "      <th>2</th>\n",
              "      <td>2010-01-03</td>\n",
              "      <td>-6.8</td>\n",
              "      <td>-3.2</td>\n",
              "      <td>14:38</td>\n",
              "      <td>-10.5</td>\n",
              "      <td>7:48</td>\n",
              "      <td>7.3</td>\n",
              "    </tr>\n",
              "    <tr>\n",
              "      <th>3</th>\n",
              "      <td>2010-01-04</td>\n",
              "      <td>-5.9</td>\n",
              "      <td>-3.4</td>\n",
              "      <td>14:25</td>\n",
              "      <td>-8.0</td>\n",
              "      <td>24:00:00</td>\n",
              "      <td>4.6</td>\n",
              "    </tr>\n",
              "    <tr>\n",
              "      <th>4</th>\n",
              "      <td>2010-01-05</td>\n",
              "      <td>-9.9</td>\n",
              "      <td>-7.0</td>\n",
              "      <td>15:06</td>\n",
              "      <td>-12.3</td>\n",
              "      <td>23:33</td>\n",
              "      <td>5.3</td>\n",
              "    </tr>\n",
              "  </tbody>\n",
              "</table>\n",
              "</div>"
            ],
            "text/plain": [
              "           일시  평균기온  최고기온 최고기온시각  최저기온    최저기온시각  일교차\n",
              "0  2010-01-01  -7.6  -3.6  15:01 -12.7      6:54  9.1\n",
              "1  2010-01-02  -3.6   0.2  15:24  -7.4     23:59  7.6\n",
              "2  2010-01-03  -6.8  -3.2  14:38 -10.5      7:48  7.3\n",
              "3  2010-01-04  -5.9  -3.4  14:25  -8.0  24:00:00  4.6\n",
              "4  2010-01-05  -9.9  -7.0  15:06 -12.3     23:33  5.3"
            ]
          },
          "execution_count": 56,
          "metadata": {},
          "output_type": "execute_result"
        }
      ],
      "source": [
        "data.head()"
      ]
    },
    {
      "cell_type": "code",
      "execution_count": null,
      "metadata": {},
      "outputs": [],
      "source": []
    },
    {
      "cell_type": "code",
      "execution_count": 57,
      "metadata": {
        "id": "7k-hfxJPWXWZ"
      },
      "outputs": [],
      "source": [
        "# 한글 폰트 설치\n",
        "!pip install koreanize-matplotlib\n",
        "import koreanize_matplotlib"
      ]
    },
    {
      "cell_type": "code",
      "execution_count": 61,
      "metadata": {
        "id": "OTB9D59QRY5V"
      },
      "outputs": [
        {
          "name": "stdout",
          "output_type": "stream",
          "text": [
            "<class 'pandas.core.frame.DataFrame'>\n",
            "Index: 5111 entries, 0 to 5112\n",
            "Data columns (total 9 columns):\n",
            " #   Column  Non-Null Count  Dtype  \n",
            "---  ------  --------------  -----  \n",
            " 0   일시      5111 non-null   object \n",
            " 1   평균기온    5111 non-null   float64\n",
            " 2   최고기온    5111 non-null   float64\n",
            " 3   최고기온시각  5111 non-null   object \n",
            " 4   최저기온    5111 non-null   float64\n",
            " 5   최저기온시각  5111 non-null   object \n",
            " 6   일교차     5111 non-null   float64\n",
            " 7   년도      5111 non-null   object \n",
            " 8   날짜      5111 non-null   object \n",
            "dtypes: float64(4), object(5)\n",
            "memory usage: 399.3+ KB\n"
          ]
        },
        {
          "data": {
            "text/html": [
              "<div>\n",
              "<style scoped>\n",
              "    .dataframe tbody tr th:only-of-type {\n",
              "        vertical-align: middle;\n",
              "    }\n",
              "\n",
              "    .dataframe tbody tr th {\n",
              "        vertical-align: top;\n",
              "    }\n",
              "\n",
              "    .dataframe thead th {\n",
              "        text-align: right;\n",
              "    }\n",
              "</style>\n",
              "<table border=\"1\" class=\"dataframe\">\n",
              "  <thead>\n",
              "    <tr style=\"text-align: right;\">\n",
              "      <th></th>\n",
              "      <th>일시</th>\n",
              "      <th>평균기온</th>\n",
              "      <th>최고기온</th>\n",
              "      <th>최고기온시각</th>\n",
              "      <th>최저기온</th>\n",
              "      <th>최저기온시각</th>\n",
              "      <th>일교차</th>\n",
              "      <th>년도</th>\n",
              "      <th>날짜</th>\n",
              "    </tr>\n",
              "  </thead>\n",
              "  <tbody>\n",
              "    <tr>\n",
              "      <th>0</th>\n",
              "      <td>2010-01-01</td>\n",
              "      <td>-7.6</td>\n",
              "      <td>-3.6</td>\n",
              "      <td>15:01</td>\n",
              "      <td>-12.7</td>\n",
              "      <td>6:54</td>\n",
              "      <td>9.1</td>\n",
              "      <td>2010</td>\n",
              "      <td>01-01</td>\n",
              "    </tr>\n",
              "    <tr>\n",
              "      <th>1</th>\n",
              "      <td>2010-01-02</td>\n",
              "      <td>-3.6</td>\n",
              "      <td>0.2</td>\n",
              "      <td>15:24</td>\n",
              "      <td>-7.4</td>\n",
              "      <td>23:59</td>\n",
              "      <td>7.6</td>\n",
              "      <td>2010</td>\n",
              "      <td>01-02</td>\n",
              "    </tr>\n",
              "    <tr>\n",
              "      <th>2</th>\n",
              "      <td>2010-01-03</td>\n",
              "      <td>-6.8</td>\n",
              "      <td>-3.2</td>\n",
              "      <td>14:38</td>\n",
              "      <td>-10.5</td>\n",
              "      <td>7:48</td>\n",
              "      <td>7.3</td>\n",
              "      <td>2010</td>\n",
              "      <td>01-03</td>\n",
              "    </tr>\n",
              "    <tr>\n",
              "      <th>3</th>\n",
              "      <td>2010-01-04</td>\n",
              "      <td>-5.9</td>\n",
              "      <td>-3.4</td>\n",
              "      <td>14:25</td>\n",
              "      <td>-8.0</td>\n",
              "      <td>24:00:00</td>\n",
              "      <td>4.6</td>\n",
              "      <td>2010</td>\n",
              "      <td>01-04</td>\n",
              "    </tr>\n",
              "    <tr>\n",
              "      <th>4</th>\n",
              "      <td>2010-01-05</td>\n",
              "      <td>-9.9</td>\n",
              "      <td>-7.0</td>\n",
              "      <td>15:06</td>\n",
              "      <td>-12.3</td>\n",
              "      <td>23:33</td>\n",
              "      <td>5.3</td>\n",
              "      <td>2010</td>\n",
              "      <td>01-05</td>\n",
              "    </tr>\n",
              "  </tbody>\n",
              "</table>\n",
              "</div>"
            ],
            "text/plain": [
              "           일시  평균기온  최고기온 최고기온시각  최저기온    최저기온시각  일교차    년도     날짜\n",
              "0  2010-01-01  -7.6  -3.6  15:01 -12.7      6:54  9.1  2010  01-01\n",
              "1  2010-01-02  -3.6   0.2  15:24  -7.4     23:59  7.6  2010  01-02\n",
              "2  2010-01-03  -6.8  -3.2  14:38 -10.5      7:48  7.3  2010  01-03\n",
              "3  2010-01-04  -5.9  -3.4  14:25  -8.0  24:00:00  4.6  2010  01-04\n",
              "4  2010-01-05  -9.9  -7.0  15:06 -12.3     23:33  5.3  2010  01-05"
            ]
          },
          "execution_count": 61,
          "metadata": {},
          "output_type": "execute_result"
        }
      ],
      "source": [
        "# 1단계 : '일시' 열에서 새로운 열 '년도'과 '날짜'열 생성\n",
        "\n",
        "data['년도'] = data['일시'].str[:4] # 처음부터 3개까지 자르겠다.\n",
        "data['날짜'] = data['일시'].str[5:] # 5부터 끝까지\n",
        "data.info()\n",
        "data.head()"
      ]
    },
    {
      "cell_type": "code",
      "execution_count": 65,
      "metadata": {},
      "outputs": [
        {
          "name": "stdout",
          "output_type": "stream",
          "text": [
            "<class 'pandas.core.frame.DataFrame'>\n",
            "Index: 5111 entries, 0 to 5112\n",
            "Data columns (total 9 columns):\n",
            " #   Column  Non-Null Count  Dtype  \n",
            "---  ------  --------------  -----  \n",
            " 0   일시      5111 non-null   object \n",
            " 1   평균기온    5111 non-null   float64\n",
            " 2   최고기온    5111 non-null   float64\n",
            " 3   최고기온시각  5111 non-null   object \n",
            " 4   최저기온    5111 non-null   float64\n",
            " 5   최저기온시각  5111 non-null   object \n",
            " 6   일교차     5111 non-null   float64\n",
            " 7   년도      5111 non-null   int64  \n",
            " 8   날짜      5111 non-null   object \n",
            "dtypes: float64(4), int64(1), object(4)\n",
            "memory usage: 399.3+ KB\n"
          ]
        },
        {
          "data": {
            "text/html": [
              "<div>\n",
              "<style scoped>\n",
              "    .dataframe tbody tr th:only-of-type {\n",
              "        vertical-align: middle;\n",
              "    }\n",
              "\n",
              "    .dataframe tbody tr th {\n",
              "        vertical-align: top;\n",
              "    }\n",
              "\n",
              "    .dataframe thead th {\n",
              "        text-align: right;\n",
              "    }\n",
              "</style>\n",
              "<table border=\"1\" class=\"dataframe\">\n",
              "  <thead>\n",
              "    <tr style=\"text-align: right;\">\n",
              "      <th></th>\n",
              "      <th>일시</th>\n",
              "      <th>평균기온</th>\n",
              "      <th>최고기온</th>\n",
              "      <th>최고기온시각</th>\n",
              "      <th>최저기온</th>\n",
              "      <th>최저기온시각</th>\n",
              "      <th>일교차</th>\n",
              "      <th>년도</th>\n",
              "      <th>날짜</th>\n",
              "    </tr>\n",
              "  </thead>\n",
              "  <tbody>\n",
              "    <tr>\n",
              "      <th>0</th>\n",
              "      <td>2010-01-01</td>\n",
              "      <td>-7.6</td>\n",
              "      <td>-3.6</td>\n",
              "      <td>15:01</td>\n",
              "      <td>-12.7</td>\n",
              "      <td>6:54</td>\n",
              "      <td>9.1</td>\n",
              "      <td>2010</td>\n",
              "      <td>01-01</td>\n",
              "    </tr>\n",
              "    <tr>\n",
              "      <th>1</th>\n",
              "      <td>2010-01-02</td>\n",
              "      <td>-3.6</td>\n",
              "      <td>0.2</td>\n",
              "      <td>15:24</td>\n",
              "      <td>-7.4</td>\n",
              "      <td>23:59</td>\n",
              "      <td>7.6</td>\n",
              "      <td>2010</td>\n",
              "      <td>01-02</td>\n",
              "    </tr>\n",
              "    <tr>\n",
              "      <th>2</th>\n",
              "      <td>2010-01-03</td>\n",
              "      <td>-6.8</td>\n",
              "      <td>-3.2</td>\n",
              "      <td>14:38</td>\n",
              "      <td>-10.5</td>\n",
              "      <td>7:48</td>\n",
              "      <td>7.3</td>\n",
              "      <td>2010</td>\n",
              "      <td>01-03</td>\n",
              "    </tr>\n",
              "    <tr>\n",
              "      <th>3</th>\n",
              "      <td>2010-01-04</td>\n",
              "      <td>-5.9</td>\n",
              "      <td>-3.4</td>\n",
              "      <td>14:25</td>\n",
              "      <td>-8.0</td>\n",
              "      <td>24:00:00</td>\n",
              "      <td>4.6</td>\n",
              "      <td>2010</td>\n",
              "      <td>01-04</td>\n",
              "    </tr>\n",
              "    <tr>\n",
              "      <th>4</th>\n",
              "      <td>2010-01-05</td>\n",
              "      <td>-9.9</td>\n",
              "      <td>-7.0</td>\n",
              "      <td>15:06</td>\n",
              "      <td>-12.3</td>\n",
              "      <td>23:33</td>\n",
              "      <td>5.3</td>\n",
              "      <td>2010</td>\n",
              "      <td>01-05</td>\n",
              "    </tr>\n",
              "  </tbody>\n",
              "</table>\n",
              "</div>"
            ],
            "text/plain": [
              "           일시  평균기온  최고기온 최고기온시각  최저기온    최저기온시각  일교차    년도     날짜\n",
              "0  2010-01-01  -7.6  -3.6  15:01 -12.7      6:54  9.1  2010  01-01\n",
              "1  2010-01-02  -3.6   0.2  15:24  -7.4     23:59  7.6  2010  01-02\n",
              "2  2010-01-03  -6.8  -3.2  14:38 -10.5      7:48  7.3  2010  01-03\n",
              "3  2010-01-04  -5.9  -3.4  14:25  -8.0  24:00:00  4.6  2010  01-04\n",
              "4  2010-01-05  -9.9  -7.0  15:06 -12.3     23:33  5.3  2010  01-05"
            ]
          },
          "execution_count": 65,
          "metadata": {},
          "output_type": "execute_result"
        }
      ],
      "source": [
        "# '년도' 컬럼을 숫자 정수형으로 변환\n",
        "data['년도'] = data['년도'].astype(int)\n",
        "data.info()\n",
        "data.head()"
      ]
    },
    {
      "cell_type": "code",
      "execution_count": 90,
      "metadata": {},
      "outputs": [
        {
          "data": {
            "text/plain": [
              "년도\n",
              "2010    12.140822\n",
              "2011    12.082192\n",
              "2012    12.268579\n",
              "2013    12.563562\n",
              "2014    13.400274\n",
              "2015    13.621918\n",
              "2016    13.592896\n",
              "2017    13.077747\n",
              "2018    13.002466\n",
              "2019    13.598904\n",
              "2020    13.271858\n",
              "2021    13.752055\n",
              "2022    13.259066\n",
              "2023    14.109041\n",
              "Name: 평균기온, dtype: float64"
            ]
          },
          "execution_count": 90,
          "metadata": {},
          "output_type": "execute_result"
        }
      ],
      "source": [
        "# 연도별 평균기온 - 1. 그릅화 2. 피벗테이블\n",
        "\n",
        "data.groupby('년도')['평균기온'].mean()"
      ]
    },
    {
      "cell_type": "code",
      "execution_count": 78,
      "metadata": {},
      "outputs": [
        {
          "name": "stdout",
          "output_type": "stream",
          "text": [
            "Requirement already satisfied: matplotlib in c:\\users\\user\\appdata\\local\\programs\\python\\python312\\lib\\site-packages (3.9.0)Note: you may need to restart the kernel to use updated packages.\n",
            "\n",
            "Requirement already satisfied: contourpy>=1.0.1 in c:\\users\\user\\appdata\\local\\programs\\python\\python312\\lib\\site-packages (from matplotlib) (1.2.1)\n",
            "Requirement already satisfied: cycler>=0.10 in c:\\users\\user\\appdata\\local\\programs\\python\\python312\\lib\\site-packages (from matplotlib) (0.12.1)\n",
            "Requirement already satisfied: fonttools>=4.22.0 in c:\\users\\user\\appdata\\local\\programs\\python\\python312\\lib\\site-packages (from matplotlib) (4.53.0)\n",
            "Requirement already satisfied: kiwisolver>=1.3.1 in c:\\users\\user\\appdata\\local\\programs\\python\\python312\\lib\\site-packages (from matplotlib) (1.4.5)\n",
            "Requirement already satisfied: numpy>=1.23 in c:\\users\\user\\appdata\\local\\programs\\python\\python312\\lib\\site-packages (from matplotlib) (2.0.0)\n",
            "Requirement already satisfied: packaging>=20.0 in c:\\users\\user\\appdata\\roaming\\python\\python312\\site-packages (from matplotlib) (24.1)\n",
            "Requirement already satisfied: pillow>=8 in c:\\users\\user\\appdata\\local\\programs\\python\\python312\\lib\\site-packages (from matplotlib) (10.3.0)\n",
            "Requirement already satisfied: pyparsing>=2.3.1 in c:\\users\\user\\appdata\\local\\programs\\python\\python312\\lib\\site-packages (from matplotlib) (3.1.2)\n",
            "Requirement already satisfied: python-dateutil>=2.7 in c:\\users\\user\\appdata\\roaming\\python\\python312\\site-packages (from matplotlib) (2.9.0.post0)\n",
            "Requirement already satisfied: six>=1.5 in c:\\users\\user\\appdata\\roaming\\python\\python312\\site-packages (from python-dateutil>=2.7->matplotlib) (1.16.0)\n"
          ]
        },
        {
          "name": "stderr",
          "output_type": "stream",
          "text": [
            "\n",
            "[notice] A new release of pip is available: 24.0 -> 24.1\n",
            "[notice] To update, run: python.exe -m pip install --upgrade pip\n"
          ]
        }
      ],
      "source": [
        "%pip install matplotlib"
      ]
    },
    {
      "cell_type": "code",
      "execution_count": 93,
      "metadata": {},
      "outputs": [
        {
          "data": {
            "text/html": [
              "<div>\n",
              "<style scoped>\n",
              "    .dataframe tbody tr th:only-of-type {\n",
              "        vertical-align: middle;\n",
              "    }\n",
              "\n",
              "    .dataframe tbody tr th {\n",
              "        vertical-align: top;\n",
              "    }\n",
              "\n",
              "    .dataframe thead th {\n",
              "        text-align: right;\n",
              "    }\n",
              "</style>\n",
              "<table border=\"1\" class=\"dataframe\">\n",
              "  <thead>\n",
              "    <tr style=\"text-align: right;\">\n",
              "      <th></th>\n",
              "      <th>평균기온</th>\n",
              "    </tr>\n",
              "    <tr>\n",
              "      <th>년도</th>\n",
              "      <th></th>\n",
              "    </tr>\n",
              "  </thead>\n",
              "  <tbody>\n",
              "    <tr>\n",
              "      <th>2010</th>\n",
              "      <td>12.140822</td>\n",
              "    </tr>\n",
              "    <tr>\n",
              "      <th>2011</th>\n",
              "      <td>12.082192</td>\n",
              "    </tr>\n",
              "    <tr>\n",
              "      <th>2012</th>\n",
              "      <td>12.268579</td>\n",
              "    </tr>\n",
              "    <tr>\n",
              "      <th>2013</th>\n",
              "      <td>12.563562</td>\n",
              "    </tr>\n",
              "    <tr>\n",
              "      <th>2014</th>\n",
              "      <td>13.400274</td>\n",
              "    </tr>\n",
              "    <tr>\n",
              "      <th>2015</th>\n",
              "      <td>13.621918</td>\n",
              "    </tr>\n",
              "    <tr>\n",
              "      <th>2016</th>\n",
              "      <td>13.592896</td>\n",
              "    </tr>\n",
              "    <tr>\n",
              "      <th>2017</th>\n",
              "      <td>13.077747</td>\n",
              "    </tr>\n",
              "    <tr>\n",
              "      <th>2018</th>\n",
              "      <td>13.002466</td>\n",
              "    </tr>\n",
              "    <tr>\n",
              "      <th>2019</th>\n",
              "      <td>13.598904</td>\n",
              "    </tr>\n",
              "    <tr>\n",
              "      <th>2020</th>\n",
              "      <td>13.271858</td>\n",
              "    </tr>\n",
              "    <tr>\n",
              "      <th>2021</th>\n",
              "      <td>13.752055</td>\n",
              "    </tr>\n",
              "    <tr>\n",
              "      <th>2022</th>\n",
              "      <td>13.259066</td>\n",
              "    </tr>\n",
              "    <tr>\n",
              "      <th>2023</th>\n",
              "      <td>14.109041</td>\n",
              "    </tr>\n",
              "  </tbody>\n",
              "</table>\n",
              "</div>"
            ],
            "text/plain": [
              "           평균기온\n",
              "년도             \n",
              "2010  12.140822\n",
              "2011  12.082192\n",
              "2012  12.268579\n",
              "2013  12.563562\n",
              "2014  13.400274\n",
              "2015  13.621918\n",
              "2016  13.592896\n",
              "2017  13.077747\n",
              "2018  13.002466\n",
              "2019  13.598904\n",
              "2020  13.271858\n",
              "2021  13.752055\n",
              "2022  13.259066\n",
              "2023  14.109041"
            ]
          },
          "execution_count": 93,
          "metadata": {},
          "output_type": "execute_result"
        }
      ],
      "source": [
        "import matplotlib.pyplot as plt\n",
        "\n",
        "# 연도별 평균기온의 평균계산\n",
        "# data.groupby('년도')[['평균기온']].mean() # []를 사용하면 데이타 프레임형삭으로 컴버트됨\n",
        "meanDAta = data.groupby('년도')[['평균기온']].mean() \n",
        "meanDAta\n"
      ]
    },
    {
      "cell_type": "code",
      "execution_count": 92,
      "metadata": {},
      "outputs": [
        {
          "data": {
            "image/png": "[encoded data removed]",
            "text/plain": [
              "<Figure size 640x480 with 1 Axes>"
            ]
          },
          "metadata": {},
          "output_type": "display_data"
        }
      ],
      "source": [
        "# 차트그리기\n",
        "plt.plot(meanDAta)\n",
        "plt.show()"
      ]
    },
    {
      "cell_type": "code",
      "execution_count": 86,
      "metadata": {
        "id": "atP6Y8xlTIGz"
      },
      "outputs": [
        {
          "data": {
            "text/html": [
              "<div>\n",
              "<style scoped>\n",
              "    .dataframe tbody tr th:only-of-type {\n",
              "        vertical-align: middle;\n",
              "    }\n",
              "\n",
              "    .dataframe tbody tr th {\n",
              "        vertical-align: top;\n",
              "    }\n",
              "\n",
              "    .dataframe thead th {\n",
              "        text-align: right;\n",
              "    }\n",
              "</style>\n",
              "<table border=\"1\" class=\"dataframe\">\n",
              "  <thead>\n",
              "    <tr style=\"text-align: right;\">\n",
              "      <th></th>\n",
              "      <th>일시</th>\n",
              "      <th>평균기온</th>\n",
              "      <th>최고기온</th>\n",
              "      <th>최고기온시각</th>\n",
              "      <th>최저기온</th>\n",
              "      <th>최저기온시각</th>\n",
              "      <th>일교차</th>\n",
              "      <th>년도</th>\n",
              "      <th>날짜</th>\n",
              "    </tr>\n",
              "  </thead>\n",
              "  <tbody>\n",
              "    <tr>\n",
              "      <th>23</th>\n",
              "      <td>2010-01-24</td>\n",
              "      <td>0.3</td>\n",
              "      <td>3.8</td>\n",
              "      <td>13:22</td>\n",
              "      <td>-4.5</td>\n",
              "      <td>0:00</td>\n",
              "      <td>8.3</td>\n",
              "      <td>2010</td>\n",
              "      <td>01-24</td>\n",
              "    </tr>\n",
              "    <tr>\n",
              "      <th>388</th>\n",
              "      <td>2011-01-24</td>\n",
              "      <td>-8.8</td>\n",
              "      <td>-5.8</td>\n",
              "      <td>13:24</td>\n",
              "      <td>-10.9</td>\n",
              "      <td>8:12</td>\n",
              "      <td>5.1</td>\n",
              "      <td>2011</td>\n",
              "      <td>01-24</td>\n",
              "    </tr>\n",
              "    <tr>\n",
              "      <th>753</th>\n",
              "      <td>2012-01-24</td>\n",
              "      <td>-7.3</td>\n",
              "      <td>-3.1</td>\n",
              "      <td>15:55</td>\n",
              "      <td>-11.8</td>\n",
              "      <td>6:07</td>\n",
              "      <td>8.7</td>\n",
              "      <td>2012</td>\n",
              "      <td>01-24</td>\n",
              "    </tr>\n",
              "    <tr>\n",
              "      <th>1119</th>\n",
              "      <td>2013-01-24</td>\n",
              "      <td>-0.9</td>\n",
              "      <td>2.4</td>\n",
              "      <td>11:26</td>\n",
              "      <td>-6.7</td>\n",
              "      <td>23:56</td>\n",
              "      <td>9.1</td>\n",
              "      <td>2013</td>\n",
              "      <td>01-24</td>\n",
              "    </tr>\n",
              "    <tr>\n",
              "      <th>1484</th>\n",
              "      <td>2014-01-24</td>\n",
              "      <td>3.0</td>\n",
              "      <td>5.7</td>\n",
              "      <td>15:43</td>\n",
              "      <td>-1.1</td>\n",
              "      <td>0:01</td>\n",
              "      <td>6.8</td>\n",
              "      <td>2014</td>\n",
              "      <td>01-24</td>\n",
              "    </tr>\n",
              "    <tr>\n",
              "      <th>1849</th>\n",
              "      <td>2015-01-24</td>\n",
              "      <td>3.7</td>\n",
              "      <td>8.4</td>\n",
              "      <td>14:40</td>\n",
              "      <td>0.8</td>\n",
              "      <td>7:31</td>\n",
              "      <td>7.6</td>\n",
              "      <td>2015</td>\n",
              "      <td>01-24</td>\n",
              "    </tr>\n",
              "    <tr>\n",
              "      <th>2214</th>\n",
              "      <td>2016-01-24</td>\n",
              "      <td>-14.4</td>\n",
              "      <td>-10.5</td>\n",
              "      <td>16:20</td>\n",
              "      <td>-18.0</td>\n",
              "      <td>7:30</td>\n",
              "      <td>7.5</td>\n",
              "      <td>2016</td>\n",
              "      <td>01-24</td>\n",
              "    </tr>\n",
              "    <tr>\n",
              "      <th>2580</th>\n",
              "      <td>2017-01-24</td>\n",
              "      <td>-7.0</td>\n",
              "      <td>-1.3</td>\n",
              "      <td>15:30</td>\n",
              "      <td>-11.6</td>\n",
              "      <td>4:19</td>\n",
              "      <td>10.3</td>\n",
              "      <td>2017</td>\n",
              "      <td>01-24</td>\n",
              "    </tr>\n",
              "    <tr>\n",
              "      <th>2945</th>\n",
              "      <td>2018-01-24</td>\n",
              "      <td>-14.2</td>\n",
              "      <td>-10.7</td>\n",
              "      <td>14:22</td>\n",
              "      <td>-16.3</td>\n",
              "      <td>7:46</td>\n",
              "      <td>5.6</td>\n",
              "      <td>2018</td>\n",
              "      <td>01-24</td>\n",
              "    </tr>\n",
              "    <tr>\n",
              "      <th>3310</th>\n",
              "      <td>2019-01-24</td>\n",
              "      <td>0.1</td>\n",
              "      <td>6.5</td>\n",
              "      <td>14:46</td>\n",
              "      <td>-4.6</td>\n",
              "      <td>8:06</td>\n",
              "      <td>11.1</td>\n",
              "      <td>2019</td>\n",
              "      <td>01-24</td>\n",
              "    </tr>\n",
              "    <tr>\n",
              "      <th>3675</th>\n",
              "      <td>2020-01-24</td>\n",
              "      <td>2.8</td>\n",
              "      <td>7.4</td>\n",
              "      <td>15:34</td>\n",
              "      <td>-1.3</td>\n",
              "      <td>8:16</td>\n",
              "      <td>8.7</td>\n",
              "      <td>2020</td>\n",
              "      <td>01-24</td>\n",
              "    </tr>\n",
              "    <tr>\n",
              "      <th>4041</th>\n",
              "      <td>2021-01-24</td>\n",
              "      <td>7.3</td>\n",
              "      <td>13.9</td>\n",
              "      <td>15:10</td>\n",
              "      <td>2.4</td>\n",
              "      <td>7:58</td>\n",
              "      <td>11.5</td>\n",
              "      <td>2021</td>\n",
              "      <td>01-24</td>\n",
              "    </tr>\n",
              "    <tr>\n",
              "      <th>4406</th>\n",
              "      <td>2022-01-24</td>\n",
              "      <td>4.6</td>\n",
              "      <td>8.4</td>\n",
              "      <td>13:29</td>\n",
              "      <td>1.3</td>\n",
              "      <td>0:01</td>\n",
              "      <td>7.1</td>\n",
              "      <td>2022</td>\n",
              "      <td>01-24</td>\n",
              "    </tr>\n",
              "    <tr>\n",
              "      <th>4771</th>\n",
              "      <td>2023-01-24</td>\n",
              "      <td>-14.7</td>\n",
              "      <td>-6.9</td>\n",
              "      <td>0:01</td>\n",
              "      <td>-17.0</td>\n",
              "      <td>23:54</td>\n",
              "      <td>10.1</td>\n",
              "      <td>2023</td>\n",
              "      <td>01-24</td>\n",
              "    </tr>\n",
              "  </tbody>\n",
              "</table>\n",
              "</div>"
            ],
            "text/plain": [
              "              일시  평균기온  최고기온 최고기온시각  최저기온 최저기온시각   일교차    년도     날짜\n",
              "23    2010-01-24   0.3   3.8  13:22  -4.5   0:00   8.3  2010  01-24\n",
              "388   2011-01-24  -8.8  -5.8  13:24 -10.9   8:12   5.1  2011  01-24\n",
              "753   2012-01-24  -7.3  -3.1  15:55 -11.8   6:07   8.7  2012  01-24\n",
              "1119  2013-01-24  -0.9   2.4  11:26  -6.7  23:56   9.1  2013  01-24\n",
              "1484  2014-01-24   3.0   5.7  15:43  -1.1   0:01   6.8  2014  01-24\n",
              "1849  2015-01-24   3.7   8.4  14:40   0.8   7:31   7.6  2015  01-24\n",
              "2214  2016-01-24 -14.4 -10.5  16:20 -18.0   7:30   7.5  2016  01-24\n",
              "2580  2017-01-24  -7.0  -1.3  15:30 -11.6   4:19  10.3  2017  01-24\n",
              "2945  2018-01-24 -14.2 -10.7  14:22 -16.3   7:46   5.6  2018  01-24\n",
              "3310  2019-01-24   0.1   6.5  14:46  -4.6   8:06  11.1  2019  01-24\n",
              "3675  2020-01-24   2.8   7.4  15:34  -1.3   8:16   8.7  2020  01-24\n",
              "4041  2021-01-24   7.3  13.9  15:10   2.4   7:58  11.5  2021  01-24\n",
              "4406  2022-01-24   4.6   8.4  13:29   1.3   0:01   7.1  2022  01-24\n",
              "4771  2023-01-24 -14.7  -6.9   0:01 -17.0  23:54  10.1  2023  01-24"
            ]
          },
          "execution_count": 86,
          "metadata": {},
          "output_type": "execute_result"
        }
      ],
      "source": [
        "# 2단계 : 생성된 '날짜'열 값에서 본인 생일과 동일한 날짜 검색하여 birthData 변수에 저장\n",
        "# 예: data[data['날짜']=='10-01']\n",
        "\n",
        "birthdata = data.loc[data['날짜'] == '01-24']\n",
        "birthdata"
      ]
    },
    {
      "cell_type": "code",
      "execution_count": 94,
      "metadata": {},
      "outputs": [
        {
          "data": {
            "text/html": [
              "<div>\n",
              "<style scoped>\n",
              "    .dataframe tbody tr th:only-of-type {\n",
              "        vertical-align: middle;\n",
              "    }\n",
              "\n",
              "    .dataframe tbody tr th {\n",
              "        vertical-align: top;\n",
              "    }\n",
              "\n",
              "    .dataframe thead th {\n",
              "        text-align: right;\n",
              "    }\n",
              "</style>\n",
              "<table border=\"1\" class=\"dataframe\">\n",
              "  <thead>\n",
              "    <tr style=\"text-align: right;\">\n",
              "      <th></th>\n",
              "      <th>년도</th>\n",
              "    </tr>\n",
              "  </thead>\n",
              "  <tbody>\n",
              "    <tr>\n",
              "      <th>4041</th>\n",
              "      <td>2021</td>\n",
              "    </tr>\n",
              "  </tbody>\n",
              "</table>\n",
              "</div>"
            ],
            "text/plain": [
              "        년도\n",
              "4041  2021"
            ]
          },
          "execution_count": 94,
          "metadata": {},
          "output_type": "execute_result"
        }
      ],
      "source": [
        "# 내 생일 날짜 중에서 최고 기온인 연도는?\n",
        "\n",
        "maxBirthdata = birthdata.loc[(birthdata['최고기온'] == birthdata['최고기온'].max()),['일시','평균기온','최고기온','최저기온','일교차','년도','날짜']]\n",
        "maxBirthdata['년도']\n",
        "\n",
        "maxBirthdata = birthdata.loc[(birthdata['최고기온'] == birthdata['최고기온'].max()),['년도']]\n",
        "maxBirthdata\n",
        "\n"
      ]
    },
    {
      "cell_type": "code",
      "execution_count": 99,
      "metadata": {
        "id": "6w9K8oeypRtK"
      },
      "outputs": [
        {
          "data": {
            "image/png": "[encoded data removed]",
            "text/plain": [
              "<Figure size 640x480 with 1 Axes>"
            ]
          },
          "metadata": {},
          "output_type": "display_data"
        }
      ],
      "source": [
        "# 3단계 :'년도(2010 ~ 2023)'별로 '최고기온'과 '최저기온' 꺽은선 그래프 작성, birthData 변수 이용\n",
        "# 차트 사이즈 : 가로 - 12 inch, 세로 - 10 inch\n",
        "\n",
        "\n",
        "\n",
        "# 차트그리기\n",
        "plt.plot(birthdata['년도'], birthdata['최고기온'], label = 'max') # (X축, Y축)\n",
        "plt.plot(birthdata['년도'], birthdata['최저기온'], label = 'min') # (X축, Y축)\n",
        "plt.grid()\n",
        "plt.legend()\n",
        "plt.show()\n"
      ]
    }
  ],
  "metadata": {
    "colab": {
      "provenance": []
    },
    "kernelspec": {
      "display_name": "Python 3",
      "name": "python3"
    },
    "language_info": {
      "codemirror_mode": {
        "name": "ipython",
        "version": 3
      },
      "file_extension": ".py",
      "mimetype": "text/x-python",
      "name": "python",
      "nbconvert_exporter": "python",
      "pygments_lexer": "ipython3",
      "version": "3.12.4"
    }
  },
  "nbformat": 4,
  "nbformat_minor": 0
}
