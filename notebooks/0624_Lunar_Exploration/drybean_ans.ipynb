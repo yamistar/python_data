{
 "cells": [
  {
   "cell_type": "code",
   "execution_count": 37,
   "metadata": {},
   "outputs": [
    {
     "name": "stdout",
     "output_type": "stream",
     "text": [
      "Area                 int64\n",
      "Perimeter          float64\n",
      "MajorAxisLength    float64\n",
      "MinorAxisLength    float64\n",
      "AspectRation       float64\n",
      "Eccentricity       float64\n",
      "ConvexArea           int64\n",
      "EquivDiameter      float64\n",
      "Extent             float64\n",
      "Solidity           float64\n",
      "roundness          float64\n",
      "Compactness        float64\n",
      "ShapeFactor1       float64\n",
      "ShapeFactor2       float64\n",
      "ShapeFactor3       float64\n",
      "ShapeFactor4       float64\n",
      "Class               object\n",
      "dtype: object\n"
     ]
    }
   ],
   "source": [
    "# 퀴즈 1: 데이터 가져오기 및 검사하기\n",
    "# 'Dry_Bean_Dataset.csv'라는 이름의 csv 파일에 데이터셋이 있다고 가정합니다.\n",
    "# 이 데이터셋을 불러와서 데이터프레임을 만들고, 데이터프레임의 첫 5개 행과 마지막 5개 행을 출력하세요. 그리고 데이터프레임의 정보를 출력하세요.\n",
    "import pandas as pd # 판다스 라이브러리 임포트\n",
    "import numpy as np # 넘파이 라이브러리 임포트\n",
    "df = pd.read_csv('Dry_Bean_Dataset.csv') # 데이터셋 불러오기\n",
    "print(df.dtypes) # 데이터프레임의 정보 출력"
   ]
  },
  {
   "cell_type": "code",
   "execution_count": 38,
   "metadata": {},
   "outputs": [
    {
     "name": "stdout",
     "output_type": "stream",
     "text": [
      "       Area  Perimeter  MajorAxisLength  MinorAxisLength  AspectRation  \\\n",
      "1251  30006    652.956       238.613862       160.431713      1.487324   \n",
      "1252  30008    645.884       210.557999       182.516516      1.153638   \n",
      "1253  30012    634.168       229.164660       167.000164      1.372242   \n",
      "1254  30015    641.881       236.166003       162.117145      1.456761   \n",
      "1255  30017    634.725       231.420302       165.469441      1.398568   \n",
      "\n",
      "      Eccentricity  ConvexArea  EquivDiameter    Extent  Solidity  roundness  \\\n",
      "1251      0.740235       30456     195.460548  0.729913  0.985225   0.884403   \n",
      "1252      0.498616       30724     195.467062  0.782681  0.976696   0.903936   \n",
      "1253      0.684796       30308     195.480089  0.765456  0.990234   0.937770   \n",
      "1254      0.727173       30321     195.489859  0.789952  0.989908   0.915460   \n",
      "1255      0.699107       30345     195.496372  0.728285  0.989191   0.936280   \n",
      "\n",
      "      Compactness  ShapeFactor1  ShapeFactor2  ShapeFactor3  ShapeFactor4  \\\n",
      "1251     0.819150      0.007952      0.002209      0.671007      0.998004   \n",
      "1252     0.928329      0.007017      0.003215      0.861794      0.994199   \n",
      "1253     0.853011      0.007636      0.002494      0.727629      0.998483   \n",
      "1254     0.827765      0.007868      0.002279      0.685194      0.998165   \n",
      "1255     0.844768      0.007710      0.002422      0.713632      0.998063   \n",
      "\n",
      "         Class  \n",
      "1251  DERMASON  \n",
      "1252     SEKER  \n",
      "1253  DERMASON  \n",
      "1254  DERMASON  \n",
      "1255  DERMASON  \n"
     ]
    }
   ],
   "source": [
    "# 퀴즈 2: 특정 데이터 선택하기\n",
    "# 면적이 30000 픽셀보다 큰 콩에 관심이 있다고 가정합니다\n",
    "df_large_beans = df[df['Area'] > 30000] # 면적이 30000보다 큰 콩 선택\n",
    "print(df_large_beans.head()) # 선택된 데이터프레임의 첫 5개 행 출력"
   ]
  },
  {
   "cell_type": "code",
   "execution_count": 39,
   "metadata": {},
   "outputs": [
    {
     "name": "stdout",
     "output_type": "stream",
     "text": [
      "    Area  Perimeter  MajorAxisLength  MinorAxisLength  AspectRation  \\\n",
      "0  20420    524.932       183.601165       141.886215      1.294003   \n",
      "1  20464    528.408       191.249312       136.368462      1.402445   \n",
      "2  20548    524.736       183.965251       142.672388      1.289424   \n",
      "3  20711    525.413       186.079149       142.081680      1.309663   \n",
      "4  20786    534.717       200.927241       132.143553      1.520522   \n",
      "\n",
      "   Eccentricity  ConvexArea  EquivDiameter    Extent  Solidity  roundness  \\\n",
      "0      0.634655       20684     161.243764  0.790187  0.987237   0.931235   \n",
      "1      0.701123       20772     161.417391  0.747407  0.985172   0.921004   \n",
      "2      0.631299       20825     161.748342  0.759686  0.986699   0.937773   \n",
      "3      0.645743       20988     162.388621  0.793525  0.986802   0.942778   \n",
      "4      0.753307       21057     162.682381  0.789412  0.987130   0.913551   \n",
      "\n",
      "   Compactness  ShapeFactor1  ShapeFactor2  ShapeFactor3  ShapeFactor4  \\\n",
      "0     0.878228      0.008991      0.003299   -999.000000      0.998045   \n",
      "1     0.844016      0.009346      0.002925      0.712362      0.999049   \n",
      "2     0.879233      0.008953      0.003300      0.773051      0.996791   \n",
      "3     0.872686      0.008985      0.003214      0.761580      0.997414   \n",
      "4     0.809658      0.009666      0.002562      0.655546      0.996773   \n",
      "\n",
      "      Class  \n",
      "0  DERMASON  \n",
      "1  DERMASON  \n",
      "2  DERMASON  \n",
      "3  DERMASON  \n",
      "4  DERMASON  \n"
     ]
    }
   ],
   "source": [
    "print(df.head()) # 다시 오리지널 데이터프레임의 첫 5개 행 출력해보세요."
   ]
  },
  {
   "cell_type": "code",
   "execution_count": 40,
   "metadata": {},
   "outputs": [],
   "source": [
    "# 퀴즈 3: 데이터 정리하기\n",
    "# 'ShapeFactor3'에 몇 가지 잘못된 값이 있다고 가정합니다\n",
    "# 예를 들어, -999가 들어가 있다고 가정합니다.\n",
    "# 이런 잘못된 값들을 찾아서, 이를 NaN으로 바꾸세요.\n",
    "# 그리고 NaN이 있는 행을 제거하세요.\n",
    "# 실습을 위해서 편의상 맨 처음 행의 ShapeFactor3를 -999로 바꿨습니다.\n",
    "df['ShapeFactor3'] = df['ShapeFactor3'].replace(-999, np.nan) # -999를 NaN으로 대체합니다\n",
    "df = df.dropna(subset=['ShapeFactor3']) # 결측치가 있는 행을 제거합니다"
   ]
  },
  {
   "cell_type": "code",
   "execution_count": 41,
   "metadata": {},
   "outputs": [
    {
     "name": "stdout",
     "output_type": "stream",
     "text": [
      "    Area  Perimeter  MajorAxisLength  MinorAxisLength  AspectRation  \\\n",
      "1  20464    528.408       191.249312       136.368462      1.402445   \n",
      "2  20548    524.736       183.965251       142.672388      1.289424   \n",
      "3  20711    525.413       186.079149       142.081680      1.309663   \n",
      "4  20786    534.717       200.927241       132.143553      1.520522   \n",
      "5  20942    530.683       191.176525       139.586402      1.369593   \n",
      "\n",
      "   Eccentricity  ConvexArea  EquivDiameter    Extent  Solidity  roundness  \\\n",
      "1      0.701123       20772     161.417391  0.747407  0.985172   0.921004   \n",
      "2      0.631299       20825     161.748342  0.759686  0.986699   0.937773   \n",
      "3      0.645743       20988     162.388621  0.793525  0.986802   0.942778   \n",
      "4      0.753307       21057     162.682381  0.789412  0.987130   0.913551   \n",
      "5      0.683293       21191     163.291710  0.742361  0.988250   0.934453   \n",
      "\n",
      "   Compactness  ShapeFactor1  ShapeFactor2  ShapeFactor3  ShapeFactor4  \\\n",
      "1     0.844016      0.009346      0.002925      0.712362      0.999049   \n",
      "2     0.879233      0.008953      0.003300      0.773051      0.996791   \n",
      "3     0.872686      0.008985      0.003214      0.761580      0.997414   \n",
      "4     0.809658      0.009666      0.002562      0.655546      0.996773   \n",
      "5     0.854141      0.009129      0.002997      0.729557      0.999196   \n",
      "\n",
      "      Class  \n",
      "1  DERMASON  \n",
      "2  DERMASON  \n",
      "3  DERMASON  \n",
      "4  DERMASON  \n",
      "5  DERMASON  \n"
     ]
    }
   ],
   "source": [
    "# 정리된 데이터의 첫 5행을 보여줍니다\n",
    "print(df.head())"
   ]
  },
  {
   "cell_type": "code",
   "execution_count": 42,
   "metadata": {},
   "outputs": [
    {
     "name": "stdout",
     "output_type": "stream",
     "text": [
      "    Area  Perimeter  MajorAxisLength  MinorAxisLength  AspectRation  \\\n",
      "1  20464    528.408       191.249312       136.368462      1.402445   \n",
      "2  20548    524.736       183.965251       142.672388      1.289424   \n",
      "3  20711    525.413       186.079149       142.081680      1.309663   \n",
      "4  20786    534.717       200.927241       132.143553      1.520522   \n",
      "5  20942    530.683       191.176525       139.586402      1.369593   \n",
      "\n",
      "   Eccentricity  ConvexArea  EquivDiameter    Extent  Solidity  roundness  \\\n",
      "1      0.701123       20772     161.417391  0.747407  0.985172   0.921004   \n",
      "2      0.631299       20825     161.748342  0.759686  0.986699   0.937773   \n",
      "3      0.645743       20988     162.388621  0.793525  0.986802   0.942778   \n",
      "4      0.753307       21057     162.682381  0.789412  0.987130   0.913551   \n",
      "5      0.683293       21191     163.291710  0.742361  0.988250   0.934453   \n",
      "\n",
      "   Compactness  ShapeFactor1  ShapeFactor2  ShapeFactor3  ShapeFactor4  \\\n",
      "1     0.844016      0.009346      0.002925      0.712362      0.999049   \n",
      "2     0.879233      0.008953      0.003300      0.773051      0.996791   \n",
      "3     0.872686      0.008985      0.003214      0.761580      0.997414   \n",
      "4     0.809658      0.009666      0.002562      0.655546      0.996773   \n",
      "5     0.854141      0.009129      0.002997      0.729557      0.999196   \n",
      "\n",
      "      Class  ShapeFactor5  \n",
      "1  DERMASON      0.000027  \n",
      "2  DERMASON      0.000030  \n",
      "3  DERMASON      0.000029  \n",
      "4  DERMASON      0.000025  \n",
      "5  DERMASON      0.000027  \n"
     ]
    }
   ],
   "source": [
    "# 퀴즈 4: 계산된 열 만들기\n",
    "# 'ShapeFactor1'과 'ShapeFactor2'의 곱으로 'ShapeFactor5'라는 새로운 특성을 만듭니다\n",
    "df['ShapeFactor5'] = df['ShapeFactor1'] * df['ShapeFactor2'] # 새로운 열 생성. 'ShapeFactor1'과 'ShapeFactor2'의 곱\n",
    "print(df.head()) # 새로운 열이 추가된 데이터프레임의 첫 5개 행 출력"
   ]
  },
  {
   "cell_type": "code",
   "execution_count": 43,
   "metadata": {},
   "outputs": [
    {
     "name": "stdout",
     "output_type": "stream",
     "text": [
      "      Class           Area\n",
      "0  BARBUNYA   69804.133132\n",
      "1    BOMBAY  173485.059387\n",
      "2      CALI   75538.211043\n",
      "3  DERMASON   32122.011001\n",
      "4     HOROZ   53648.508817\n",
      "5     SEKER   39881.299951\n",
      "6      SIRA   44729.128604\n"
     ]
    }
   ],
   "source": [
    "# 퀴즈 5: 데이터 그룹화 및 집계하기\n",
    "# 'Class'별로 그룹화하고 평균 'Area'를 계산합니다\n",
    "df_class_area = df.groupby('Class')['Area'].mean().reset_index() # 'Class'별로 그룹화하고 'Area'의 평균을 계산합니다\n",
    "print(df_class_area) # 'Class'별로 평균 'Area'를 출력합니다"
   ]
  },
  {
   "cell_type": "code",
   "execution_count": 45,
   "metadata": {},
   "outputs": [
    {
     "name": "stdout",
     "output_type": "stream",
     "text": [
      "     Area  Perimeter  MajorAxisLength  MinorAxisLength  AspectRation  \\\n",
      "0  254616   1985.370       738.860154       447.418329      1.651386   \n",
      "1  251432   1919.868       719.125690       450.926187      1.594775   \n",
      "2  248424   1884.557       715.053040       446.043618      1.603101   \n",
      "3  241322   1895.940       726.373493       427.370120      1.699636   \n",
      "4  237270   1921.685       738.144502       412.921647      1.787614   \n",
      "\n",
      "   Eccentricity  ConvexArea  EquivDiameter    Extent  Solidity  roundness  \\\n",
      "0      0.795806      263261     569.374358  0.783747  0.967162   0.811732   \n",
      "1      0.778981      257425     565.803115  0.766776  0.976719   0.857211   \n",
      "2      0.781591      251082     562.408446  0.807536  0.989414   0.878992   \n",
      "3      0.808598      244319     554.311026  0.820823  0.987733   0.843641   \n",
      "4      0.828895      240671     549.637650  0.784115  0.985869   0.807399   \n",
      "\n",
      "   Compactness  ShapeFactor1  ShapeFactor2  ShapeFactor3  ShapeFactor4  \\\n",
      "0     0.770612      0.002902      0.000631      0.593843      0.980663   \n",
      "1     0.786793      0.002860      0.000676      0.619043      0.987235   \n",
      "2     0.786527      0.002878      0.000679      0.618625      0.991718   \n",
      "3     0.763121      0.003010      0.000630      0.582354      0.989790   \n",
      "4     0.744621      0.003111      0.000590      0.554460      0.991160   \n",
      "\n",
      "    Class  ShapeFactor5  DiameterRank  \n",
      "0  BOMBAY      0.000002           1.0  \n",
      "1  BOMBAY      0.000002           2.0  \n",
      "2  BOMBAY      0.000002           3.0  \n",
      "3  BOMBAY      0.000002           4.0  \n",
      "4  BOMBAY      0.000002           5.0  \n"
     ]
    }
   ],
   "source": [
    "# 퀴즈 6: 데이터 정렬 및 순위 매기기\n",
    "# 'EquivDiameter'를 기준으로 내림차순으로 정렬합니다\n",
    "df_sorted_diameter = df.sort_values(by='EquivDiameter', ascending=False).reset_index(drop=True) # 'EquivDiameter'를 기준으로 내림차순으로 정렬합니다\n",
    "df_sorted_diameter['DiameterRank'] = df_sorted_diameter['EquivDiameter'].rank(ascending=False) # 'EquivDiameter'에 대한 순위를 계산합니다\n",
    "print(df_sorted_diameter.head()) # 정렬된 데이터프레임의 첫 5개 행을 출력합니다"
   ]
  },
  {
   "cell_type": "code",
   "execution_count": 46,
   "metadata": {},
   "outputs": [],
   "source": [
    "# 퀴즈 7: 데이터 시각화하기\n",
    "import matplotlib.pyplot as plt\n"
   ]
  },
  {
   "cell_type": "code",
   "execution_count": 48,
   "metadata": {},
   "outputs": [
    {
     "data": {
      "image/png": "[encoded data removed]",
      "text/plain": [
       "<Figure size 640x480 with 1 Axes>"
      ]
     },
     "metadata": {},
     "output_type": "display_data"
    }
   ],
   "source": [
    "# 각 'Class'의 평균 'EquivDiameter'에 대한 막대 그래프를 그립니다\n",
    "df_class_diameter = df.groupby('Class')['EquivDiameter'].mean().reset_index() # 'Class'별로 그룹화하고 'EquivDiameter'의 평균을 계산합니다\n",
    "df_class_diameter.plot(kind='bar', x='Class', y='EquivDiameter') # 막대 그래프를 그립니다\n",
    "plt.savefig('equiv_diameter_by_class.png') # 그래프를 이미지 파일로 저장합니다"
   ]
  },
  {
   "cell_type": "code",
   "execution_count": 58,
   "metadata": {},
   "outputs": [
    {
     "name": "stdout",
     "output_type": "stream",
     "text": [
      "    Area  Perimeter  MajorAxisLength  MinorAxisLength  AspectRation  \\\n",
      "1  20464    528.408       191.249312       136.368462      1.402445   \n",
      "2  20548    524.736       183.965251       142.672388      1.289424   \n",
      "3  20711    525.413       186.079149       142.081680      1.309663   \n",
      "4  20786    534.717       200.927241       132.143553      1.520522   \n",
      "5  20942    530.683       191.176525       139.586402      1.369593   \n",
      "\n",
      "   Eccentricity  ConvexArea  EquivDiameter    Extent  Solidity  roundness  \\\n",
      "1      0.701123       20772     161.417391  0.747407  0.985172   0.921004   \n",
      "2      0.631299       20825     161.748342  0.759686  0.986699   0.937773   \n",
      "3      0.645743       20988     162.388621  0.793525  0.986802   0.942778   \n",
      "4      0.753307       21057     162.682381  0.789412  0.987130   0.913551   \n",
      "5      0.683293       21191     163.291710  0.742361  0.988250   0.934453   \n",
      "\n",
      "   Compactness  ShapeFactor1  ShapeFactor2  ShapeFactor3  ShapeFactor4  \\\n",
      "1     0.844016      0.009346      0.002925      0.712362      0.999049   \n",
      "2     0.879233      0.008953      0.003300      0.773051      0.996791   \n",
      "3     0.872686      0.008985      0.003214      0.761580      0.997414   \n",
      "4     0.809658      0.009666      0.002562      0.655546      0.996773   \n",
      "5     0.854141      0.009129      0.002997      0.729557      0.999196   \n",
      "\n",
      "      Class  ShapeFactor5 ClassInitial  \n",
      "1  DERMASON      0.000027            D  \n",
      "2  DERMASON      0.000030            D  \n",
      "3  DERMASON      0.000029            D  \n",
      "4  DERMASON      0.000025            D  \n",
      "5  DERMASON      0.000027            D  \n"
     ]
    }
   ],
   "source": [
    "# 퀴즈 8: 문자열 조작하기\n",
    "# 'Class'가 문자열이고 첫 글자를 추출하고 싶다고 가정합니다\n",
    "df['ClassInitial'] = df['Class'].str[0] # 'Class'의 첫 글자를 추출하여 'ClassInitial' 열을 만듭니다\n",
    "print(df.head()) # 데이터프레임의 첫 5개 행을 출력합니다"
   ]
  },
  {
   "cell_type": "code",
   "execution_count": 60,
   "metadata": {},
   "outputs": [
    {
     "name": "stdout",
     "output_type": "stream",
     "text": [
      "      Class  AspectRation  CorrelationWithDiameter\n",
      "5     SEKER      1.245182                 0.425836\n",
      "1    BOMBAY      1.585550                 0.409292\n",
      "6      SIRA      1.570083                 0.391825\n",
      "2      CALI      1.733663                 0.203589\n",
      "4     HOROZ      2.026119                 0.168580\n",
      "3  DERMASON      1.490526                 0.131777\n",
      "0  BARBUNYA      1.544395                 0.074018\n"
     ]
    }
   ],
   "source": [
    "# 퀴즈 9: 'Area'와 'Perimeter'가 Dry Beans Dataset의 열이라고 가정합니다\n",
    "# 각 'Class'에 대한 평균 'AspectRation'을 계산합니다\n",
    "df_aspect_ratio = df.groupby('Class')['AspectRation'].mean().reset_index() # 'Class'별로 그룹화하고 'AspectRation'의 평균을 계산합니다\n",
    "# 상관 관계 값을 저장할 빈 리스트를 초기화합니다\n",
    "correlation_values = [] # 상관 관계 값을 저장할 빈 리스트를 초기화합니다\n",
    "# 각 'Class'에 대한 상관 관계를 계산합니다\n",
    "for bean_class in df_aspect_ratio['Class']:\n",
    "    class_df = df[df['Class'] == bean_class]\n",
    "    correlation = class_df['AspectRation'].corr(class_df['EquivDiameter'])\n",
    "    correlation_values.append(correlation)\n",
    "# 상관 관계 값을 'df_aspect_ratio' 데이터프레임에 추가합니다\n",
    "df_aspect_ratio['CorrelationWithDiameter'] = correlation_values # 상관 관계 값을 'df_aspect_ratio' 데이터프레임에 추가합니다\n",
    "# 'CorrelationWithDiameter'로 데이터프레임을 정렬합니다\n",
    "df_aspect_ratio_sorted = df_aspect_ratio.sort_values(by='CorrelationWithDiameter', ascending=False)\n",
    "print(df_aspect_ratio_sorted) # 정렬된 데이터프레임을 출력합니다\n"
   ]
  }
 ],
 "metadata": {
  "kernelspec": {
   "display_name": "Python 3",
   "language": "python",
   "name": "python3"
  },
  "language_info": {
   "codemirror_mode": {
    "name": "ipython",
    "version": 3
   },
   "file_extension": ".py",
   "mimetype": "text/x-python",
   "name": "python",
   "nbconvert_exporter": "python",
   "pygments_lexer": "ipython3",
   "version": "3.11.1"
  }
 },
 "nbformat": 4,
 "nbformat_minor": 2
}
